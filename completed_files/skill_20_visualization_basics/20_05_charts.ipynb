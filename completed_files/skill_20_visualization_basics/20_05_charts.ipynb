{
 "cells": [
  {
   "cell_type": "markdown",
   "id": "cb14344d",
   "metadata": {},
   "source": [
    "# Creating Charts"
   ]
  },
  {
   "cell_type": "markdown",
   "id": "75f91101",
   "metadata": {},
   "source": [
    "### Import libraries"
   ]
  },
  {
   "cell_type": "code",
   "execution_count": 1,
   "id": "a07bc27d",
   "metadata": {},
   "outputs": [],
   "source": [
    "import pandas\n",
    "from pandas_datareader import data\n",
    "\n",
    "import matplotlib.pyplot as plt\n",
    "%matplotlib inline"
   ]
  },
  {
   "cell_type": "markdown",
   "id": "e1e16a64",
   "metadata": {},
   "source": [
    "### Get Bitcoin cryptocurrency data"
   ]
  },
  {
   "cell_type": "code",
   "execution_count": 2,
   "id": "68b5f167",
   "metadata": {
    "scrolled": true
   },
   "outputs": [
    {
     "data": {
      "text/html": [
       "<div>\n",
       "<style scoped>\n",
       "    .dataframe tbody tr th:only-of-type {\n",
       "        vertical-align: middle;\n",
       "    }\n",
       "\n",
       "    .dataframe tbody tr th {\n",
       "        vertical-align: top;\n",
       "    }\n",
       "\n",
       "    .dataframe thead th {\n",
       "        text-align: right;\n",
       "    }\n",
       "</style>\n",
       "<table border=\"1\" class=\"dataframe\">\n",
       "  <thead>\n",
       "    <tr style=\"text-align: right;\">\n",
       "      <th></th>\n",
       "      <th>High</th>\n",
       "      <th>Low</th>\n",
       "      <th>Open</th>\n",
       "      <th>Close</th>\n",
       "      <th>Volume</th>\n",
       "      <th>Adj Close</th>\n",
       "    </tr>\n",
       "    <tr>\n",
       "      <th>Date</th>\n",
       "      <th></th>\n",
       "      <th></th>\n",
       "      <th></th>\n",
       "      <th></th>\n",
       "      <th></th>\n",
       "      <th></th>\n",
       "    </tr>\n",
       "  </thead>\n",
       "  <tbody>\n",
       "    <tr>\n",
       "      <th>2022-01-01</th>\n",
       "      <td>0.173423</td>\n",
       "      <td>0.170353</td>\n",
       "      <td>0.170510</td>\n",
       "      <td>0.173035</td>\n",
       "      <td>371336089.0</td>\n",
       "      <td>0.173035</td>\n",
       "    </tr>\n",
       "    <tr>\n",
       "      <th>2022-01-02</th>\n",
       "      <td>0.175989</td>\n",
       "      <td>0.171201</td>\n",
       "      <td>0.173027</td>\n",
       "      <td>0.174403</td>\n",
       "      <td>391041933.0</td>\n",
       "      <td>0.174403</td>\n",
       "    </tr>\n",
       "  </tbody>\n",
       "</table>\n",
       "</div>"
      ],
      "text/plain": [
       "                High       Low      Open     Close       Volume  Adj Close\n",
       "Date                                                                      \n",
       "2022-01-01  0.173423  0.170353  0.170510  0.173035  371336089.0   0.173035\n",
       "2022-01-02  0.175989  0.171201  0.173027  0.174403  391041933.0   0.174403"
      ]
     },
     "execution_count": 2,
     "metadata": {},
     "output_type": "execute_result"
    }
   ],
   "source": [
    "# zoom in for a closer look starting on 2022-01-01 to today\n",
    "btc = data.DataReader(name = \"BTC-USD\", data_source = \"yahoo\", start = \"2022-01-01\")\n",
    "btc.head(2)"
   ]
  },
  {
   "cell_type": "markdown",
   "id": "d7432f81",
   "metadata": {},
   "source": [
    "### Write a cryptocurrency performance function"
   ]
  },
  {
   "cell_type": "code",
   "execution_count": 3,
   "id": "401e29f3",
   "metadata": {},
   "outputs": [],
   "source": [
    "def performance(coin):\n",
    "    if coin <= .15:\n",
    "        return \"Not so hot\"\n",
    "    elif coin <= .17:\n",
    "        return \"Not bad!\"\n",
    "    else:\n",
    "        return \"Solid!!\""
   ]
  },
  {
   "cell_type": "code",
   "execution_count": 4,
   "id": "e99287f4",
   "metadata": {},
   "outputs": [
    {
     "data": {
      "text/plain": [
       "Not so hot    50\n",
       "Not bad!      17\n",
       "Solid!!        8\n",
       "Name: Close, dtype: int64"
      ]
     },
     "execution_count": 4,
     "metadata": {},
     "output_type": "execute_result"
    }
   ],
   "source": [
    "btc[\"Close\"].apply(performance).value_counts()"
   ]
  },
  {
   "cell_type": "markdown",
   "id": "9c024006",
   "metadata": {},
   "source": [
    "### Create a Bitcoin performance charts"
   ]
  },
  {
   "cell_type": "code",
   "execution_count": 5,
   "id": "d8e526eb",
   "metadata": {},
   "outputs": [
    {
     "data": {
      "text/plain": [
       "<AxesSubplot:>"
      ]
     },
     "execution_count": 5,
     "metadata": {},
     "output_type": "execute_result"
    },
    {
     "data": {
      "image/png": "[encoded data removed]",
      "text/plain": [
       "<Figure size 432x288 with 1 Axes>"
      ]
     },
     "metadata": {
      "needs_background": "light"
     },
     "output_type": "display_data"
    }
   ],
   "source": [
    "btc[\"Close\"].apply(performance).value_counts().plot()"
   ]
  },
  {
   "cell_type": "code",
   "execution_count": 6,
   "id": "7163ed77",
   "metadata": {},
   "outputs": [
    {
     "data": {
      "text/plain": [
       "<AxesSubplot:>"
      ]
     },
     "execution_count": 6,
     "metadata": {},
     "output_type": "execute_result"
    },
    {
     "data": {
      "image/png": "[encoded data removed]",
      "text/plain": [
       "<Figure size 432x288 with 1 Axes>"
      ]
     },
     "metadata": {
      "needs_background": "light"
     },
     "output_type": "display_data"
    }
   ],
   "source": [
    "btc[\"Close\"].apply(performance).value_counts().plot(kind = \"bar\")"
   ]
  },
  {
   "cell_type": "code",
   "execution_count": 7,
   "id": "4a9b75f0",
   "metadata": {},
   "outputs": [
    {
     "data": {
      "text/plain": [
       "<AxesSubplot:>"
      ]
     },
     "execution_count": 7,
     "metadata": {},
     "output_type": "execute_result"
    },
    {
     "data": {
      "image/png": "[encoded data removed]",
      "text/plain": [
       "<Figure size 432x288 with 1 Axes>"
      ]
     },
     "metadata": {
      "needs_background": "light"
     },
     "output_type": "display_data"
    }
   ],
   "source": [
    "btc[\"Close\"].apply(performance).value_counts().plot(kind = \"barh\")"
   ]
  },
  {
   "cell_type": "code",
   "execution_count": 9,
   "id": "91ee9a5a",
   "metadata": {},
   "outputs": [
    {
     "data": {
      "text/plain": [
       "<AxesSubplot:>"
      ]
     },
     "execution_count": 9,
     "metadata": {},
     "output_type": "execute_result"
    },
    {
     "data": {
      "image/png": "[encoded data removed]",
      "text/plain": [
       "<Figure size 432x288 with 1 Axes>"
      ]
     },
     "metadata": {},
     "output_type": "display_data"
    }
   ],
   "source": [
    "# not a fan of pie charts but here is how to create one\n",
    "btc[\"Close\"].apply(performance).value_counts().plot(kind = \"pie\", ylabel = \"\")"
   ]
  }
 ],
 "metadata": {
  "kernelspec": {
   "display_name": "Python 3 (ipykernel)",
   "language": "python",
   "name": "python3"
  },
  "language_info": {
   "codemirror_mode": {
    "name": "ipython",
    "version": 3
   },
   "file_extension": ".py",
   "mimetype": "text/x-python",
   "name": "python",
   "nbconvert_exporter": "python",
   "pygments_lexer": "ipython3",
   "version": "3.9.7"
  }
 },
 "nbformat": 4,
 "nbformat_minor": 5
}
