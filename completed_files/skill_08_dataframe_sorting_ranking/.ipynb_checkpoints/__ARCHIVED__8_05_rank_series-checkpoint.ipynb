{
 "cells": [
  {
   "cell_type": "markdown",
   "id": "6d3e7102",
   "metadata": {
    "id": "0hXukNu_DWOQ"
   },
   "source": [
    "# Sort by Index with `.sort_index()` "
   ]
  },
  {
   "cell_type": "markdown",
   "id": "dfd7dfd6",
   "metadata": {
    "id": "y3d7yHwzDWOR"
   },
   "source": [
    "### Import Pandas"
   ]
  },
  {
   "cell_type": "code",
   "execution_count": 2,
   "id": "d5f6e61a",
   "metadata": {
    "id": "6_b0rMOXDWOR"
   },
   "outputs": [],
   "source": [
    "import pandas as pd"
   ]
  },
  {
   "cell_type": "markdown",
   "id": "225fe002",
   "metadata": {
    "id": "LftTeu1IDWOR"
   },
   "source": [
    "### Read CSV"
   ]
  },
  {
   "cell_type": "code",
   "execution_count": 3,
   "id": "82d6a487",
   "metadata": {
    "id": "Di01LPiTDWOS"
   },
   "outputs": [],
   "source": [
    "salaries = pd.read_csv(\"mls_salaries.csv\")"
   ]
  },
  {
   "cell_type": "markdown",
   "id": "4dfa142c",
   "metadata": {
    "id": "tpauRmh_DWOS"
   },
   "source": [
    "### Head"
   ]
  },
  {
   "cell_type": "code",
   "execution_count": 6,
   "id": "7d8fc25f",
   "metadata": {
    "id": "8rd6iQTKDWOS",
    "outputId": "cb700eb4-5bf9-4cd0-b3e0-1a3aed349625",
    "scrolled": false
   },
   "outputs": [
    {
     "data": {
      "text/html": [
       "<div>\n",
       "<style scoped>\n",
       "    .dataframe tbody tr th:only-of-type {\n",
       "        vertical-align: middle;\n",
       "    }\n",
       "\n",
       "    .dataframe tbody tr th {\n",
       "        vertical-align: top;\n",
       "    }\n",
       "\n",
       "    .dataframe thead th {\n",
       "        text-align: right;\n",
       "    }\n",
       "</style>\n",
       "<table border=\"1\" class=\"dataframe\">\n",
       "  <thead>\n",
       "    <tr style=\"text-align: right;\">\n",
       "      <th></th>\n",
       "      <th>club</th>\n",
       "      <th>last_name</th>\n",
       "      <th>first_name</th>\n",
       "      <th>position</th>\n",
       "      <th>base_salary</th>\n",
       "      <th>guaranteed_compensation</th>\n",
       "    </tr>\n",
       "  </thead>\n",
       "  <tbody>\n",
       "    <tr>\n",
       "      <th>0</th>\n",
       "      <td>ATL</td>\n",
       "      <td>Almiron</td>\n",
       "      <td>Miguel</td>\n",
       "      <td>M</td>\n",
       "      <td>1912500.0</td>\n",
       "      <td>2297000.00</td>\n",
       "    </tr>\n",
       "    <tr>\n",
       "      <th>1</th>\n",
       "      <td>ATL</td>\n",
       "      <td>Ambrose</td>\n",
       "      <td>Mikey</td>\n",
       "      <td>D</td>\n",
       "      <td>65625.0</td>\n",
       "      <td>65625.00</td>\n",
       "    </tr>\n",
       "    <tr>\n",
       "      <th>2</th>\n",
       "      <td>ATL</td>\n",
       "      <td>Asad</td>\n",
       "      <td>Yamil</td>\n",
       "      <td>M</td>\n",
       "      <td>150000.0</td>\n",
       "      <td>150000.00</td>\n",
       "    </tr>\n",
       "    <tr>\n",
       "      <th>3</th>\n",
       "      <td>ATL</td>\n",
       "      <td>Bloom</td>\n",
       "      <td>Mark</td>\n",
       "      <td>D</td>\n",
       "      <td>99225.0</td>\n",
       "      <td>106573.89</td>\n",
       "    </tr>\n",
       "    <tr>\n",
       "      <th>4</th>\n",
       "      <td>ATL</td>\n",
       "      <td>Carleton</td>\n",
       "      <td>Andrew</td>\n",
       "      <td>F</td>\n",
       "      <td>65000.0</td>\n",
       "      <td>77400.00</td>\n",
       "    </tr>\n",
       "    <tr>\n",
       "      <th>5</th>\n",
       "      <td>ATL</td>\n",
       "      <td>Carmona</td>\n",
       "      <td>Carlos</td>\n",
       "      <td>M</td>\n",
       "      <td>675000.0</td>\n",
       "      <td>725000.00</td>\n",
       "    </tr>\n",
       "    <tr>\n",
       "      <th>6</th>\n",
       "      <td>ATL</td>\n",
       "      <td>Garza</td>\n",
       "      <td>Greg</td>\n",
       "      <td>D</td>\n",
       "      <td>150000.0</td>\n",
       "      <td>150000.00</td>\n",
       "    </tr>\n",
       "    <tr>\n",
       "      <th>7</th>\n",
       "      <td>ATL</td>\n",
       "      <td>Gonzalez Pirez</td>\n",
       "      <td>Leandro</td>\n",
       "      <td>D</td>\n",
       "      <td>250008.0</td>\n",
       "      <td>285008.00</td>\n",
       "    </tr>\n",
       "    <tr>\n",
       "      <th>8</th>\n",
       "      <td>ATL</td>\n",
       "      <td>Goslin</td>\n",
       "      <td>Chris</td>\n",
       "      <td>M</td>\n",
       "      <td>70000.0</td>\n",
       "      <td>74000.00</td>\n",
       "    </tr>\n",
       "    <tr>\n",
       "      <th>9</th>\n",
       "      <td>ATL</td>\n",
       "      <td>Gressel</td>\n",
       "      <td>Julian</td>\n",
       "      <td>NaN</td>\n",
       "      <td>75000.0</td>\n",
       "      <td>93750.00</td>\n",
       "    </tr>\n",
       "  </tbody>\n",
       "</table>\n",
       "</div>"
      ],
      "text/plain": [
       "  club       last_name first_name position  base_salary  \\\n",
       "0  ATL         Almiron     Miguel        M    1912500.0   \n",
       "1  ATL         Ambrose      Mikey        D      65625.0   \n",
       "2  ATL            Asad      Yamil        M     150000.0   \n",
       "3  ATL           Bloom       Mark        D      99225.0   \n",
       "4  ATL        Carleton     Andrew        F      65000.0   \n",
       "5  ATL         Carmona     Carlos        M     675000.0   \n",
       "6  ATL           Garza       Greg        D     150000.0   \n",
       "7  ATL  Gonzalez Pirez    Leandro        D     250008.0   \n",
       "8  ATL          Goslin      Chris        M      70000.0   \n",
       "9  ATL         Gressel     Julian      NaN      75000.0   \n",
       "\n",
       "   guaranteed_compensation  \n",
       "0               2297000.00  \n",
       "1                 65625.00  \n",
       "2                150000.00  \n",
       "3                106573.89  \n",
       "4                 77400.00  \n",
       "5                725000.00  \n",
       "6                150000.00  \n",
       "7                285008.00  \n",
       "8                 74000.00  \n",
       "9                 93750.00  "
      ]
     },
     "execution_count": 6,
     "metadata": {},
     "output_type": "execute_result"
    }
   ],
   "source": [
    "salaries.head(10)"
   ]
  },
  {
   "cell_type": "markdown",
   "id": "2f17c2dc",
   "metadata": {},
   "source": [
    "### `.rank()`"
   ]
  },
  {
   "cell_type": "code",
   "execution_count": 9,
   "id": "e7af4c9d",
   "metadata": {},
   "outputs": [
    {
     "data": {
      "text/plain": [
       "0      1912500.0\n",
       "1        65625.0\n",
       "2       150000.0\n",
       "3        99225.0\n",
       "4        65000.0\n",
       "         ...    \n",
       "610     126500.0\n",
       "611      80000.0\n",
       "612     350000.0\n",
       "613          NaN\n",
       "614     175000.0\n",
       "Name: base_salary, Length: 615, dtype: float64"
      ]
     },
     "execution_count": 9,
     "metadata": {},
     "output_type": "execute_result"
    }
   ],
   "source": [
    "salaries[\"base_salary\"]"
   ]
  },
  {
   "cell_type": "code",
   "execution_count": 11,
   "id": "a6e65785",
   "metadata": {},
   "outputs": [
    {
     "data": {
      "text/plain": [
       "0      602.0\n",
       "1      144.0\n",
       "2      354.0\n",
       "3      239.0\n",
       "4       84.0\n",
       "       ...  \n",
       "610    315.0\n",
       "611    203.0\n",
       "612    507.0\n",
       "613      NaN\n",
       "614    384.0\n",
       "Name: base_salary, Length: 615, dtype: float64"
      ]
     },
     "execution_count": 11,
     "metadata": {},
     "output_type": "execute_result"
    }
   ],
   "source": [
    "salaries[\"base_salary\"].rank()"
   ]
  },
  {
   "cell_type": "code",
   "execution_count": 12,
   "id": "30394a0e",
   "metadata": {
    "scrolled": true
   },
   "outputs": [
    {
     "data": {
      "text/plain": [
       "0       13.0\n",
       "1      471.0\n",
       "2      261.0\n",
       "3      376.0\n",
       "4      531.0\n",
       "       ...  \n",
       "610    300.0\n",
       "611    412.0\n",
       "612    108.0\n",
       "613      NaN\n",
       "614    231.0\n",
       "Name: base_salary, Length: 615, dtype: float64"
      ]
     },
     "execution_count": 12,
     "metadata": {},
     "output_type": "execute_result"
    }
   ],
   "source": [
    "salaries[\"base_salary\"].rank(ascending=False)"
   ]
  },
  {
   "cell_type": "markdown",
   "id": "d9e2e45f",
   "metadata": {},
   "source": [
    "### Exploring how `.rank()` works"
   ]
  },
  {
   "cell_type": "code",
   "execution_count": 30,
   "id": "68c257ca",
   "metadata": {},
   "outputs": [],
   "source": [
    "# sort values in descending order, highest to lowest\n",
    "sorted_salary = salaries[\"base_salary\"].sort_values(ascending=False)"
   ]
  },
  {
   "cell_type": "code",
   "execution_count": 32,
   "id": "a5636c2e",
   "metadata": {},
   "outputs": [
    {
     "data": {
      "text/plain": [
       "401     1.0\n",
       "560     2.0\n",
       "355     3.0\n",
       "568     4.5\n",
       "349     4.5\n",
       "55      6.0\n",
       "556     7.0\n",
       "230     8.0\n",
       "506     9.0\n",
       "472    10.0\n",
       "347    11.0\n",
       "103    12.0\n",
       "0      13.0\n",
       "487    14.0\n",
       "52     15.0\n",
       "224    16.0\n",
       "98     17.0\n",
       "384    18.0\n",
       "599    19.0\n",
       "513    20.0\n",
       "Name: base_salary, dtype: float64"
      ]
     },
     "execution_count": 32,
     "metadata": {},
     "output_type": "execute_result"
    }
   ],
   "source": [
    "# rank sorted base_salary column\n",
    "sorted_salary.rank(ascending=False).head(20)"
   ]
  },
  {
   "cell_type": "code",
   "execution_count": 34,
   "id": "83b616b1",
   "metadata": {},
   "outputs": [
    {
     "data": {
      "text/plain": [
       "6660000.0"
      ]
     },
     "execution_count": 34,
     "metadata": {},
     "output_type": "execute_result"
    }
   ],
   "source": [
    "# what value is row 401 which is rated at 1.0?\n",
    "salaries[\"base_salary\"].iloc[401]"
   ]
  },
  {
   "cell_type": "code",
   "execution_count": 35,
   "id": "06c73d9e",
   "metadata": {},
   "outputs": [
    {
     "data": {
      "text/plain": [
       "6660000.0"
      ]
     },
     "execution_count": 35,
     "metadata": {},
     "output_type": "execute_result"
    }
   ],
   "source": [
    "# what is the maximum salary? sames as rank 1.0?\n",
    "salaries[\"base_salary\"].max()"
   ]
  }
 ],
 "metadata": {
  "kernelspec": {
   "display_name": "Python 3 (ipykernel)",
   "language": "python",
   "name": "python3"
  },
  "language_info": {
   "codemirror_mode": {
    "name": "ipython",
    "version": 3
   },
   "file_extension": ".py",
   "mimetype": "text/x-python",
   "name": "python",
   "nbconvert_exporter": "python",
   "pygments_lexer": "ipython3",
   "version": "3.9.7"
  }
 },
 "nbformat": 4,
 "nbformat_minor": 5
}
