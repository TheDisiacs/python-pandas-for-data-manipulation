{
 "cells": [
  {
   "cell_type": "markdown",
   "id": "292ed5da",
   "metadata": {},
   "source": [
    "# Code Challenge"
   ]
  },
  {
   "cell_type": "code",
   "execution_count": 2,
   "id": "c8f09da0",
   "metadata": {},
   "outputs": [],
   "source": [
    "# import pandas\n",
    "import pandas as pd"
   ]
  },
  {
   "cell_type": "code",
   "execution_count": 3,
   "id": "d93ed3aa",
   "metadata": {},
   "outputs": [],
   "source": [
    "# read animal_names.csv CSV\n",
    "# use scientific_names column for values\n",
    "# squeeze the DataFrame into a Series\n",
    "a_names = pd.read_csv('animal_names.csv', usecols=['scientific_name']).squeeze(\"columns\")"
   ]
  },
  {
   "cell_type": "code",
   "execution_count": 4,
   "id": "83cb8ca6",
   "metadata": {},
   "outputs": [
    {
     "data": {
      "text/plain": [
       "265              Acanthaster planci\n",
       "22                 Acinynox jubatus\n",
       "844    Acrantophis madagascariensis\n",
       "680    Acrantophis madagascariensis\n",
       "372    Acrantophis madagascariensis\n",
       "                   ...             \n",
       "388                     unavailable\n",
       "91                      unavailable\n",
       "283                     unavailable\n",
       "475                     unavailable\n",
       "908                     unavailable\n",
       "Name: scientific_name, Length: 1000, dtype: object"
      ]
     },
     "execution_count": 4,
     "metadata": {},
     "output_type": "execute_result"
    }
   ],
   "source": [
    "# sort values in ascending order\n",
    "a_names.sort_values()"
   ]
  },
  {
   "cell_type": "code",
   "execution_count": 5,
   "id": "4c4b37c8",
   "metadata": {},
   "outputs": [
    {
     "data": {
      "text/plain": [
       "0            Cercatetus concinnus\n",
       "1                Lutra canadensis\n",
       "2                  Alopex lagopus\n",
       "3                Macropus eugenii\n",
       "4      Calyptorhynchus magnificus\n",
       "                  ...            \n",
       "995            Anas platyrhynchos\n",
       "996              Isoodon obesulus\n",
       "997                   Upupa epops\n",
       "998                 Ratufa indica\n",
       "999              Columba palumbus\n",
       "Name: scientific_name, Length: 1000, dtype: object"
      ]
     },
     "execution_count": 5,
     "metadata": {},
     "output_type": "execute_result"
    }
   ],
   "source": [
    "# reset index \n",
    "a_names.sort_index()"
   ]
  }
 ],
 "metadata": {
  "kernelspec": {
   "display_name": "Python 3 (ipykernel)",
   "language": "python",
   "name": "python3"
  },
  "language_info": {
   "codemirror_mode": {
    "name": "ipython",
    "version": 3
   },
   "file_extension": ".py",
   "mimetype": "text/x-python",
   "name": "python",
   "nbconvert_exporter": "python",
   "pygments_lexer": "ipython3",
   "version": "3.9.7"
  }
 },
 "nbformat": 4,
 "nbformat_minor": 5
}
