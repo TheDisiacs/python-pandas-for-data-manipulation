{
 "cells": [
  {
   "cell_type": "markdown",
   "id": "30bad143",
   "metadata": {},
   "source": [
    "# Challenge"
   ]
  },
  {
   "cell_type": "markdown",
   "id": "eddd6379",
   "metadata": {},
   "source": [
    "### Import Pandas"
   ]
  },
  {
   "cell_type": "code",
   "execution_count": 2,
   "id": "ff452b06",
   "metadata": {},
   "outputs": [],
   "source": [
    "import pandas as pd"
   ]
  },
  {
   "cell_type": "markdown",
   "id": "fd2500c0",
   "metadata": {},
   "source": [
    "### U.S. Major League Soccer Salaries"
   ]
  },
  {
   "cell_type": "code",
   "execution_count": 3,
   "id": "d140a09a",
   "metadata": {},
   "outputs": [],
   "source": [
    "salaries = pd.read_csv(\"mls_salaries.csv\")"
   ]
  },
  {
   "cell_type": "markdown",
   "id": "ad8a44b2",
   "metadata": {},
   "source": [
    "### Head"
   ]
  },
  {
   "cell_type": "code",
   "execution_count": 4,
   "id": "28310504",
   "metadata": {
    "scrolled": true
   },
   "outputs": [
    {
     "data": {
      "text/html": [
       "<div>\n",
       "<style scoped>\n",
       "    .dataframe tbody tr th:only-of-type {\n",
       "        vertical-align: middle;\n",
       "    }\n",
       "\n",
       "    .dataframe tbody tr th {\n",
       "        vertical-align: top;\n",
       "    }\n",
       "\n",
       "    .dataframe thead th {\n",
       "        text-align: right;\n",
       "    }\n",
       "</style>\n",
       "<table border=\"1\" class=\"dataframe\">\n",
       "  <thead>\n",
       "    <tr style=\"text-align: right;\">\n",
       "      <th></th>\n",
       "      <th>club</th>\n",
       "      <th>last_name</th>\n",
       "      <th>first_name</th>\n",
       "      <th>position</th>\n",
       "      <th>base_salary</th>\n",
       "      <th>guaranteed_compensation</th>\n",
       "    </tr>\n",
       "  </thead>\n",
       "  <tbody>\n",
       "    <tr>\n",
       "      <th>0</th>\n",
       "      <td>ATL</td>\n",
       "      <td>Almiron</td>\n",
       "      <td>Miguel</td>\n",
       "      <td>M</td>\n",
       "      <td>1912500.0</td>\n",
       "      <td>2297000.00</td>\n",
       "    </tr>\n",
       "    <tr>\n",
       "      <th>1</th>\n",
       "      <td>ATL</td>\n",
       "      <td>Ambrose</td>\n",
       "      <td>Mikey</td>\n",
       "      <td>D</td>\n",
       "      <td>65625.0</td>\n",
       "      <td>65625.00</td>\n",
       "    </tr>\n",
       "    <tr>\n",
       "      <th>2</th>\n",
       "      <td>ATL</td>\n",
       "      <td>Asad</td>\n",
       "      <td>Yamil</td>\n",
       "      <td>M</td>\n",
       "      <td>150000.0</td>\n",
       "      <td>150000.00</td>\n",
       "    </tr>\n",
       "    <tr>\n",
       "      <th>3</th>\n",
       "      <td>ATL</td>\n",
       "      <td>Bloom</td>\n",
       "      <td>Mark</td>\n",
       "      <td>D</td>\n",
       "      <td>99225.0</td>\n",
       "      <td>106573.89</td>\n",
       "    </tr>\n",
       "    <tr>\n",
       "      <th>4</th>\n",
       "      <td>ATL</td>\n",
       "      <td>Carleton</td>\n",
       "      <td>Andrew</td>\n",
       "      <td>F</td>\n",
       "      <td>65000.0</td>\n",
       "      <td>77400.00</td>\n",
       "    </tr>\n",
       "  </tbody>\n",
       "</table>\n",
       "</div>"
      ],
      "text/plain": [
       "  club last_name first_name position  base_salary  guaranteed_compensation\n",
       "0  ATL   Almiron     Miguel        M    1912500.0               2297000.00\n",
       "1  ATL   Ambrose      Mikey        D      65625.0                 65625.00\n",
       "2  ATL      Asad      Yamil        M     150000.0                150000.00\n",
       "3  ATL     Bloom       Mark        D      99225.0                106573.89\n",
       "4  ATL  Carleton     Andrew        F      65000.0                 77400.00"
      ]
     },
     "execution_count": 4,
     "metadata": {},
     "output_type": "execute_result"
    }
   ],
   "source": [
    "# return the first 5 rows\n",
    "salaries.head()"
   ]
  },
  {
   "cell_type": "code",
   "execution_count": 5,
   "id": "1233c6a6",
   "metadata": {},
   "outputs": [
    {
     "data": {
      "text/html": [
       "<div>\n",
       "<style scoped>\n",
       "    .dataframe tbody tr th:only-of-type {\n",
       "        vertical-align: middle;\n",
       "    }\n",
       "\n",
       "    .dataframe tbody tr th {\n",
       "        vertical-align: top;\n",
       "    }\n",
       "\n",
       "    .dataframe thead th {\n",
       "        text-align: right;\n",
       "    }\n",
       "</style>\n",
       "<table border=\"1\" class=\"dataframe\">\n",
       "  <thead>\n",
       "    <tr style=\"text-align: right;\">\n",
       "      <th></th>\n",
       "      <th>club</th>\n",
       "      <th>last_name</th>\n",
       "      <th>first_name</th>\n",
       "      <th>position</th>\n",
       "      <th>base_salary</th>\n",
       "      <th>guaranteed_compensation</th>\n",
       "    </tr>\n",
       "  </thead>\n",
       "  <tbody>\n",
       "    <tr>\n",
       "      <th>0</th>\n",
       "      <td>ATL</td>\n",
       "      <td>Almiron</td>\n",
       "      <td>Miguel</td>\n",
       "      <td>M</td>\n",
       "      <td>1912500.0</td>\n",
       "      <td>2297000.00</td>\n",
       "    </tr>\n",
       "    <tr>\n",
       "      <th>1</th>\n",
       "      <td>ATL</td>\n",
       "      <td>Ambrose</td>\n",
       "      <td>Mikey</td>\n",
       "      <td>D</td>\n",
       "      <td>65625.0</td>\n",
       "      <td>65625.00</td>\n",
       "    </tr>\n",
       "    <tr>\n",
       "      <th>2</th>\n",
       "      <td>ATL</td>\n",
       "      <td>Asad</td>\n",
       "      <td>Yamil</td>\n",
       "      <td>M</td>\n",
       "      <td>150000.0</td>\n",
       "      <td>150000.00</td>\n",
       "    </tr>\n",
       "    <tr>\n",
       "      <th>3</th>\n",
       "      <td>ATL</td>\n",
       "      <td>Bloom</td>\n",
       "      <td>Mark</td>\n",
       "      <td>D</td>\n",
       "      <td>99225.0</td>\n",
       "      <td>106573.89</td>\n",
       "    </tr>\n",
       "    <tr>\n",
       "      <th>4</th>\n",
       "      <td>ATL</td>\n",
       "      <td>Carleton</td>\n",
       "      <td>Andrew</td>\n",
       "      <td>F</td>\n",
       "      <td>65000.0</td>\n",
       "      <td>77400.00</td>\n",
       "    </tr>\n",
       "  </tbody>\n",
       "</table>\n",
       "</div>"
      ],
      "text/plain": [
       "  club last_name first_name position  base_salary  guaranteed_compensation\n",
       "0  ATL   Almiron     Miguel        M    1912500.0               2297000.00\n",
       "1  ATL   Ambrose      Mikey        D      65625.0                 65625.00\n",
       "2  ATL      Asad      Yamil        M     150000.0                150000.00\n",
       "3  ATL     Bloom       Mark        D      99225.0                106573.89\n",
       "4  ATL  Carleton     Andrew        F      65000.0                 77400.00"
      ]
     },
     "execution_count": 5,
     "metadata": {},
     "output_type": "execute_result"
    }
   ],
   "source": [
    "# return the last 5 rows\n",
    "salaries.head()"
   ]
  },
  {
   "cell_type": "markdown",
   "id": "f498f1d2",
   "metadata": {},
   "source": [
    "### Return a Series column and count frequency"
   ]
  },
  {
   "cell_type": "code",
   "execution_count": 6,
   "id": "1c897221",
   "metadata": {
    "scrolled": true
   },
   "outputs": [
    {
     "data": {
      "text/plain": [
       "club                        object\n",
       "last_name                   object\n",
       "first_name                  object\n",
       "position                    object\n",
       "base_salary                float64\n",
       "guaranteed_compensation    float64\n",
       "dtype: object"
      ]
     },
     "execution_count": 6,
     "metadata": {},
     "output_type": "execute_result"
    }
   ],
   "source": [
    "# return the data types using an attribute\n",
    "salaries.dtypes"
   ]
  },
  {
   "cell_type": "code",
   "execution_count": 7,
   "id": "b15b49e5",
   "metadata": {},
   "outputs": [
    {
     "name": "stdout",
     "output_type": "stream",
     "text": [
      "<class 'pandas.core.frame.DataFrame'>\n",
      "RangeIndex: 615 entries, 0 to 614\n",
      "Data columns (total 6 columns):\n",
      " #   Column                   Non-Null Count  Dtype  \n",
      "---  ------                   --------------  -----  \n",
      " 0   club                     614 non-null    object \n",
      " 1   last_name                614 non-null    object \n",
      " 2   first_name               610 non-null    object \n",
      " 3   position                 604 non-null    object \n",
      " 4   base_salary              614 non-null    float64\n",
      " 5   guaranteed_compensation  614 non-null    float64\n",
      "dtypes: float64(2), object(4)\n",
      "memory usage: 29.0+ KB\n"
     ]
    }
   ],
   "source": [
    "# return information about salaries\n",
    "salaries.info()"
   ]
  },
  {
   "cell_type": "code",
   "execution_count": 5,
   "id": "8024b679",
   "metadata": {},
   "outputs": [
    {
     "data": {
      "text/plain": [
       "VAN      32\n",
       "PHI      31\n",
       "ATL      31\n",
       "CLB      30\n",
       "ORL      30\n",
       "DAL      29\n",
       "SJ       29\n",
       "NYCFC    28\n",
       "HOU      28\n",
       "NYRB     28\n",
       "TOR      27\n",
       "RSL      27\n",
       "POR      27\n",
       "MTL      27\n",
       "CHI      27\n",
       "MNUFC    27\n",
       "LA       27\n",
       "DC       27\n",
       "KC       26\n",
       "COL      26\n",
       "SEA      25\n",
       "NE       23\n",
       "LAFC      2\n",
       "Name: club, dtype: int64"
      ]
     },
     "execution_count": 5,
     "metadata": {},
     "output_type": "execute_result"
    }
   ],
   "source": [
    "# return the counts for unique rows\n",
    "salaries[\"club\"].value_counts()"
   ]
  }
 ],
 "metadata": {
  "kernelspec": {
   "display_name": "Python 3 (ipykernel)",
   "language": "python",
   "name": "python3"
  },
  "language_info": {
   "codemirror_mode": {
    "name": "ipython",
    "version": 3
   },
   "file_extension": ".py",
   "mimetype": "text/x-python",
   "name": "python",
   "nbconvert_exporter": "python",
   "pygments_lexer": "ipython3",
   "version": "3.9.7"
  }
 },
 "nbformat": 4,
 "nbformat_minor": 5
}
