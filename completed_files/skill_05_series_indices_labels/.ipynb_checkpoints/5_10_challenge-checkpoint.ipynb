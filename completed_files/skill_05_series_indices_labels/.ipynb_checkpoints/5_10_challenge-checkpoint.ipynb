{
 "cells": [
  {
   "cell_type": "markdown",
   "id": "42314e58",
   "metadata": {},
   "source": [
    "# Challenge"
   ]
  },
  {
   "cell_type": "code",
   "execution_count": 1,
   "id": "4ed6b547",
   "metadata": {},
   "outputs": [
    {
     "data": {
      "text/plain": [
       "[21, 34, 55]"
      ]
     },
     "execution_count": 1,
     "metadata": {},
     "output_type": "execute_result"
    }
   ],
   "source": [
    "# check for inclusion of 34 in the following list\n",
    "[21, 34, 55]"
   ]
  },
  {
   "cell_type": "code",
   "execution_count": 4,
   "id": "88553aa7",
   "metadata": {},
   "outputs": [
    {
     "data": {
      "text/plain": [
       "6"
      ]
     },
     "execution_count": 4,
     "metadata": {},
     "output_type": "execute_result"
    }
   ],
   "source": [
    "# What is the length of the following string?\n",
    "len(\"pandas\")"
   ]
  },
  {
   "cell_type": "code",
   "execution_count": 7,
   "id": "9971db63",
   "metadata": {},
   "outputs": [],
   "source": [
    "# Import pandas\n",
    "import pandas as pd"
   ]
  },
  {
   "cell_type": "code",
   "execution_count": 14,
   "id": "f476c0c1",
   "metadata": {},
   "outputs": [],
   "source": [
    "# read the TSLA.csv file save it to variable: s\n",
    "s = pd.read_csv('TSLA.csv').squeeze(\"columns\")"
   ]
  },
  {
   "cell_type": "code",
   "execution_count": 15,
   "id": "b4854b05",
   "metadata": {},
   "outputs": [
    {
     "data": {
      "text/plain": [
       "0    23.89\n",
       "1    23.83\n",
       "2    21.96\n",
       "3    19.20\n",
       "4    16.11\n",
       "Name: Price, dtype: float64"
      ]
     },
     "execution_count": 15,
     "metadata": {},
     "output_type": "execute_result"
    }
   ],
   "source": [
    "# return the first 5 rows\n",
    "s.head()"
   ]
  },
  {
   "cell_type": "code",
   "execution_count": 17,
   "id": "89604049",
   "metadata": {},
   "outputs": [
    {
     "data": {
      "text/plain": [
       "27.42     4\n",
       "20.72     3\n",
       "27.12     3\n",
       "26.50     3\n",
       "219.58    3\n",
       "         ..\n",
       "235.84    1\n",
       "240.04    1\n",
       "233.98    1\n",
       "237.79    1\n",
       "780.00    1\n",
       "Name: Price, Length: 2225, dtype: int64"
      ]
     },
     "execution_count": 17,
     "metadata": {},
     "output_type": "execute_result"
    }
   ],
   "source": [
    "s.value_counts()"
   ]
  }
 ],
 "metadata": {
  "kernelspec": {
   "display_name": "Python 3 (ipykernel)",
   "language": "python",
   "name": "python3"
  },
  "language_info": {
   "codemirror_mode": {
    "name": "ipython",
    "version": 3
   },
   "file_extension": ".py",
   "mimetype": "text/x-python",
   "name": "python",
   "nbconvert_exporter": "python",
   "pygments_lexer": "ipython3",
   "version": "3.9.7"
  }
 },
 "nbformat": 4,
 "nbformat_minor": 5
}
