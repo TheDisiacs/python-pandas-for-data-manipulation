{
 "cells": [
  {
   "cell_type": "markdown",
   "id": "be49ba4c",
   "metadata": {},
   "source": [
    "# Creating random samples"
   ]
  },
  {
   "cell_type": "markdown",
   "id": "8e438f18",
   "metadata": {},
   "source": [
    "### Import pandas"
   ]
  },
  {
   "cell_type": "code",
   "execution_count": null,
   "id": "fd1fc19a",
   "metadata": {},
   "outputs": [],
   "source": [
    "# Import pandas\n"
   ]
  },
  {
   "cell_type": "markdown",
   "id": "b6692b42",
   "metadata": {},
   "source": [
    "### Read CSV and set rating index sorted by labels"
   ]
  },
  {
   "cell_type": "code",
   "execution_count": null,
   "id": "40b3a5c0",
   "metadata": {
    "scrolled": true
   },
   "outputs": [],
   "source": []
  },
  {
   "cell_type": "markdown",
   "id": "030b8cde",
   "metadata": {},
   "source": [
    "### Extracting one row at random"
   ]
  },
  {
   "cell_type": "code",
   "execution_count": null,
   "id": "7ac2e62a",
   "metadata": {},
   "outputs": [],
   "source": []
  },
  {
   "cell_type": "code",
   "execution_count": null,
   "id": "e4f9cc61",
   "metadata": {},
   "outputs": [],
   "source": []
  },
  {
   "cell_type": "code",
   "execution_count": null,
   "id": "1f5a0959",
   "metadata": {},
   "outputs": [],
   "source": [
    "# remember this dataset doesn't conatin 80 cereals\n"
   ]
  },
  {
   "cell_type": "code",
   "execution_count": null,
   "id": "5d239c5c",
   "metadata": {},
   "outputs": [],
   "source": [
    "# so how about using a fraction instead like 50%\n"
   ]
  },
  {
   "cell_type": "code",
   "execution_count": null,
   "id": "2b98d815",
   "metadata": {},
   "outputs": [],
   "source": []
  },
  {
   "cell_type": "code",
   "execution_count": null,
   "id": "7cbeb292",
   "metadata": {
    "scrolled": false
   },
   "outputs": [],
   "source": []
  },
  {
   "cell_type": "markdown",
   "id": "8265c5a1",
   "metadata": {},
   "source": [
    "### Select random columns"
   ]
  },
  {
   "cell_type": "code",
   "execution_count": null,
   "id": "277cd99b",
   "metadata": {},
   "outputs": [],
   "source": []
  },
  {
   "cell_type": "code",
   "execution_count": null,
   "id": "8f0a072c",
   "metadata": {},
   "outputs": [],
   "source": []
  }
 ],
 "metadata": {
  "kernelspec": {
   "display_name": "Python 3 (ipykernel)",
   "language": "python",
   "name": "python3"
  },
  "language_info": {
   "codemirror_mode": {
    "name": "ipython",
    "version": 3
   },
   "file_extension": ".py",
   "mimetype": "text/x-python",
   "name": "python",
   "nbconvert_exporter": "python",
   "pygments_lexer": "ipython3",
   "version": "3.9.7"
  }
 },
 "nbformat": 4,
 "nbformat_minor": 5
}
