{
 "cells": [
  {
   "cell_type": "markdown",
   "id": "bf91be67",
   "metadata": {},
   "source": [
    "# Pandas `Timestamp`\n",
    "This is the pandas verion of Python's datetime."
   ]
  },
  {
   "cell_type": "code",
   "execution_count": 1,
   "id": "731787d1",
   "metadata": {},
   "outputs": [],
   "source": [
    "import pandas as pd\n",
    "import datetime as dt"
   ]
  },
  {
   "cell_type": "code",
   "execution_count": 2,
   "id": "7631ef8f",
   "metadata": {},
   "outputs": [
    {
     "data": {
      "text/plain": [
       "Timestamp('2024-01-01 00:00:00')"
      ]
     },
     "execution_count": 2,
     "metadata": {},
     "output_type": "execute_result"
    }
   ],
   "source": [
    "pd.Timestamp(\"2020\")\n",
    "pd.Timestamp('2024')"
   ]
  },
  {
   "cell_type": "code",
   "execution_count": 3,
   "id": "0b8194dc",
   "metadata": {},
   "outputs": [
    {
     "data": {
      "text/plain": [
       "Timestamp('2024-12-31 00:00:00')"
      ]
     },
     "execution_count": 3,
     "metadata": {},
     "output_type": "execute_result"
    }
   ],
   "source": [
    "pd.Timestamp(\"2020-01-31\")\n",
    "pd.Timestamp('2024-12-31')"
   ]
  },
  {
   "cell_type": "code",
   "execution_count": 6,
   "id": "bffcd97e",
   "metadata": {},
   "outputs": [
    {
     "data": {
      "text/plain": [
       "Timestamp('2020-12-31 00:00:00')"
      ]
     },
     "execution_count": 6,
     "metadata": {},
     "output_type": "execute_result"
    }
   ],
   "source": [
    "pd.Timestamp(\"2020/01/31\")\n",
    "pd.Timestamp('12/31/2020')"
   ]
  },
  {
   "cell_type": "code",
   "execution_count": null,
   "id": "6a63fb66",
   "metadata": {},
   "outputs": [],
   "source": [
    "pd.Timestamp(\"12/15/2020\")"
   ]
  },
  {
   "cell_type": "code",
   "execution_count": 13,
   "id": "d41e0637",
   "metadata": {},
   "outputs": [
    {
     "data": {
      "text/plain": [
       "Timestamp('2025-01-01 15:15:00')"
      ]
     },
     "execution_count": 13,
     "metadata": {},
     "output_type": "execute_result"
    }
   ],
   "source": [
    "# this is where it gets tricky\n",
    "pd.Timestamp(\"3/3/2020\")\n",
    "pd.Timestamp('1/1/25 15:15')"
   ]
  },
  {
   "cell_type": "code",
   "execution_count": null,
   "id": "fa38d00a",
   "metadata": {},
   "outputs": [],
   "source": [
    "pd.Timestamp(\"3/3/2020 15:00:01\")"
   ]
  },
  {
   "cell_type": "code",
   "execution_count": null,
   "id": "2b4cb7e6",
   "metadata": {},
   "outputs": [],
   "source": [
    "pd.Timestamp(\"3/3/2020 3:00:01 PM\")"
   ]
  },
  {
   "cell_type": "code",
   "execution_count": null,
   "id": "aacfd7aa",
   "metadata": {},
   "outputs": [],
   "source": []
  }
 ],
 "metadata": {
  "kernelspec": {
   "display_name": "pandas_cbtn",
   "language": "python",
   "name": "python3"
  },
  "language_info": {
   "codemirror_mode": {
    "name": "ipython",
    "version": 3
   },
   "file_extension": ".py",
   "mimetype": "text/x-python",
   "name": "python",
   "nbconvert_exporter": "python",
   "pygments_lexer": "ipython3",
   "version": "3.12.7"
  }
 },
 "nbformat": 4,
 "nbformat_minor": 5
}
