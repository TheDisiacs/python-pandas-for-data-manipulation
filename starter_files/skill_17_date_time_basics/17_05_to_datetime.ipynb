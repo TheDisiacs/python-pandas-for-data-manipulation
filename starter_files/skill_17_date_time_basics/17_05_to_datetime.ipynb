{
 "cells": [
  {
   "cell_type": "markdown",
   "id": "a4a4fb92",
   "metadata": {},
   "source": [
    "# Pandas `.to_datetime()`"
   ]
  },
  {
   "cell_type": "code",
   "execution_count": 2,
   "id": "f21107c3",
   "metadata": {},
   "outputs": [],
   "source": [
    "import pandas as pd\n",
    "import datetime as dt"
   ]
  },
  {
   "cell_type": "markdown",
   "id": "41e24a41",
   "metadata": {},
   "source": [
    "### Create Timestamps"
   ]
  },
  {
   "cell_type": "code",
   "execution_count": 3,
   "id": "7002294c",
   "metadata": {},
   "outputs": [
    {
     "data": {
      "text/plain": [
       "Timestamp('2020-02-01 00:00:00')"
      ]
     },
     "execution_count": 3,
     "metadata": {},
     "output_type": "execute_result"
    }
   ],
   "source": [
    "pd.to_datetime(\"2020-02-01\")"
   ]
  },
  {
   "cell_type": "code",
   "execution_count": 4,
   "id": "88b3c400",
   "metadata": {},
   "outputs": [
    {
     "data": {
      "text/plain": [
       "Timestamp('2020-02-01 00:00:00')"
      ]
     },
     "execution_count": 4,
     "metadata": {},
     "output_type": "execute_result"
    }
   ],
   "source": [
    "pd.to_datetime(dt.date(2020,2,1))"
   ]
  },
  {
   "cell_type": "code",
   "execution_count": 5,
   "id": "458040cd",
   "metadata": {},
   "outputs": [
    {
     "data": {
      "text/plain": [
       "Timestamp('2020-02-01 00:00:00')"
      ]
     },
     "execution_count": 5,
     "metadata": {},
     "output_type": "execute_result"
    }
   ],
   "source": [
    "pd.to_datetime(dt.datetime(2020,2,1))"
   ]
  },
  {
   "cell_type": "markdown",
   "id": "b12961e7",
   "metadata": {},
   "source": [
    "### Create DatetimeIndex"
   ]
  },
  {
   "cell_type": "code",
   "execution_count": 6,
   "id": "47a3730c",
   "metadata": {},
   "outputs": [
    {
     "data": {
      "text/plain": [
       "DatetimeIndex(['2020-01-01', '2020-02-01', '2020-03-01'], dtype='datetime64[ns]', freq=None)"
      ]
     },
     "execution_count": 6,
     "metadata": {},
     "output_type": "execute_result"
    }
   ],
   "source": [
    "# use .to_datetime() to create a DatetimeIndex\n",
    "pd.to_datetime([\"2020-01-01\", \"2020/02/01\", \"March 1st, 2020\"],format='mixed')"
   ]
  },
  {
   "cell_type": "markdown",
   "id": "903d9c19",
   "metadata": {},
   "source": [
    "### Convert a Series into Datetime"
   ]
  },
  {
   "cell_type": "code",
   "execution_count": 7,
   "id": "b4982e8c",
   "metadata": {
    "scrolled": true
   },
   "outputs": [
    {
     "data": {
      "text/plain": [
       "0         2020-01-01\n",
       "1         2020/02/01\n",
       "2    March 1st, 2020\n",
       "dtype: object"
      ]
     },
     "execution_count": 7,
     "metadata": {},
     "output_type": "execute_result"
    }
   ],
   "source": [
    "# here the datatype is a string (object)\n",
    "dates = pd.Series([\"2020-01-01\", \"2020/02/01\", \"March 1st, 2020\"])\n",
    "dates"
   ]
  },
  {
   "cell_type": "code",
   "execution_count": 8,
   "id": "17a4d2b0",
   "metadata": {},
   "outputs": [
    {
     "data": {
      "text/plain": [
       "0   2020-01-01\n",
       "1   2020-02-01\n",
       "2   2020-03-01\n",
       "dtype: datetime64[ns]"
      ]
     },
     "execution_count": 8,
     "metadata": {},
     "output_type": "execute_result"
    }
   ],
   "source": [
    "# now the data type datetime\n",
    "pd.to_datetime(dates,format= 'mixed')"
   ]
  },
  {
   "cell_type": "code",
   "execution_count": 11,
   "id": "8bfe6fa5",
   "metadata": {},
   "outputs": [
    {
     "name": "stderr",
     "output_type": "stream",
     "text": [
      "C:\\Users\\alouden01\\AppData\\Local\\Temp\\ipykernel_2968\\2379322736.py:2: UserWarning: Could not infer format, so each element will be parsed individually, falling back to `dateutil`. To ensure parsing is consistent and as-expected, please specify a format.\n",
      "  pd.to_datetime(dates, errors=\"coerce\")\n",
      "C:\\Users\\alouden01\\AppData\\Local\\Temp\\ipykernel_2968\\2379322736.py:3: FutureWarning: errors='ignore' is deprecated and will raise in a future version. Use to_datetime without passing `errors` and catch exceptions explicitly instead\n",
      "  pd.to_datetime(dates, errors=\"ignore\")\n",
      "C:\\Users\\alouden01\\AppData\\Local\\Temp\\ipykernel_2968\\2379322736.py:3: UserWarning: Could not infer format, so each element will be parsed individually, falling back to `dateutil`. To ensure parsing is consistent and as-expected, please specify a format.\n",
      "  pd.to_datetime(dates, errors=\"ignore\")\n"
     ]
    },
    {
     "data": {
      "text/plain": [
       "Index(['New year's day', '1-2-3', 'Today', 'Now', '12-31-24'], dtype='object')"
      ]
     },
     "execution_count": 11,
     "metadata": {},
     "output_type": "execute_result"
    }
   ],
   "source": [
    "dates = [\"New year's day\",\"1-2-3\",'Today','Now',\"12-31-24\"]\n",
    "pd.to_datetime(dates, errors=\"coerce\")\n",
    "pd.to_datetime(dates, errors=\"ignore\")"
   ]
  },
  {
   "cell_type": "code",
   "execution_count": 20,
   "id": "cffccb03",
   "metadata": {},
   "outputs": [
    {
     "name": "stderr",
     "output_type": "stream",
     "text": [
      "C:\\Users\\alouden01\\AppData\\Local\\Temp\\ipykernel_2968\\397448278.py:1: UserWarning: Could not infer format, so each element will be parsed individually, falling back to `dateutil`. To ensure parsing is consistent and as-expected, please specify a format.\n",
      "  my_range = pd.to_datetime(['8/1/24','12/31/24'])\n"
     ]
    },
    {
     "data": {
      "text/plain": [
       "Timedelta('152 days 00:00:00')"
      ]
     },
     "execution_count": 20,
     "metadata": {},
     "output_type": "execute_result"
    }
   ],
   "source": [
    "my_range = pd.to_datetime(['8/1/24','12/31/24'])\n",
    "dates = pd.date_range(*my_range)\n",
    "dates[-1] - dates[0]"
   ]
  },
  {
   "cell_type": "code",
   "execution_count": null,
   "id": "7c35928f",
   "metadata": {},
   "outputs": [],
   "source": []
  }
 ],
 "metadata": {
  "kernelspec": {
   "display_name": "pandas_cbtn",
   "language": "python",
   "name": "python3"
  },
  "language_info": {
   "codemirror_mode": {
    "name": "ipython",
    "version": 3
   },
   "file_extension": ".py",
   "mimetype": "text/x-python",
   "name": "python",
   "nbconvert_exporter": "python",
   "pygments_lexer": "ipython3",
   "version": "3.12.7"
  }
 },
 "nbformat": 4,
 "nbformat_minor": 5
}
