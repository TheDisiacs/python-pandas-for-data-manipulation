{
 "cells": [
  {
   "cell_type": "markdown",
   "id": "725539a7",
   "metadata": {},
   "source": [
    "# Python `datetime`"
   ]
  },
  {
   "cell_type": "code",
   "execution_count": 2,
   "id": "2cc0b765",
   "metadata": {},
   "outputs": [],
   "source": [
    "import pandas as pd\n",
    "import datetime as dt"
   ]
  },
  {
   "cell_type": "markdown",
   "id": "e5985310",
   "metadata": {},
   "source": [
    "### Create Python date & datetime objects"
   ]
  },
  {
   "cell_type": "code",
   "execution_count": 3,
   "id": "16446077",
   "metadata": {},
   "outputs": [
    {
     "name": "stdout",
     "output_type": "stream",
     "text": [
      "2024-12-30\n"
     ]
    }
   ],
   "source": [
    "today = dt.date(2024,12,30)\n",
    "print(today)\n"
   ]
  },
  {
   "cell_type": "code",
   "execution_count": 4,
   "id": "4e539e2a",
   "metadata": {},
   "outputs": [
    {
     "name": "stdout",
     "output_type": "stream",
     "text": [
      "2024-12-31 08:46:47.862329\n"
     ]
    }
   ],
   "source": [
    "now = dt.datetime.now()\n",
    "print(now)"
   ]
  },
  {
   "cell_type": "code",
   "execution_count": 5,
   "id": "1403a0e4",
   "metadata": {},
   "outputs": [
    {
     "name": "stdout",
     "output_type": "stream",
     "text": [
      "2024-12-31 08:46:47.874471\n"
     ]
    }
   ],
   "source": [
    "later = dt.datetime.now()\n",
    "print(later)"
   ]
  },
  {
   "cell_type": "code",
   "execution_count": 6,
   "id": "170d387b",
   "metadata": {},
   "outputs": [
    {
     "name": "stdout",
     "output_type": "stream",
     "text": [
      "0:00:00.012142\n"
     ]
    }
   ],
   "source": [
    "print(later - now)"
   ]
  },
  {
   "cell_type": "code",
   "execution_count": 7,
   "id": "c837daf7",
   "metadata": {},
   "outputs": [
    {
     "name": "stderr",
     "output_type": "stream",
     "text": [
      "C:\\Users\\alouden01\\AppData\\Local\\Temp\\ipykernel_21080\\3555743390.py:1: DeprecationWarning: datetime.datetime.utcnow() is deprecated and scheduled for removal in a future version. Use timezone-aware objects to represent datetimes in UTC: datetime.datetime.now(datetime.UTC).\n",
      "  later - later.utcnow()\n"
     ]
    },
    {
     "data": {
      "text/plain": [
       "datetime.timedelta(days=-1, seconds=64799, microseconds=978871)"
      ]
     },
     "execution_count": 7,
     "metadata": {},
     "output_type": "execute_result"
    }
   ],
   "source": [
    "later - later.utcnow()"
   ]
  },
  {
   "cell_type": "markdown",
   "id": "d64c5783",
   "metadata": {},
   "source": [
    "### Use the datetime object"
   ]
  },
  {
   "cell_type": "code",
   "execution_count": 8,
   "id": "bdf5ccb0",
   "metadata": {},
   "outputs": [
    {
     "name": "stdout",
     "output_type": "stream",
     "text": [
      "2025-01-01 00:00:01\n"
     ]
    }
   ],
   "source": [
    "new_year = dt.datetime(2025,1,1,0,0,1)\n",
    "print(new_year)"
   ]
  },
  {
   "cell_type": "code",
   "execution_count": 9,
   "id": "1d5abd02",
   "metadata": {},
   "outputs": [
    {
     "name": "stdout",
     "output_type": "stream",
     "text": [
      "The year is 2025.\n"
     ]
    }
   ],
   "source": [
    "print(f'The year is {new_year.year}.')"
   ]
  },
  {
   "cell_type": "code",
   "execution_count": 10,
   "id": "e060d987",
   "metadata": {},
   "outputs": [
    {
     "name": "stdout",
     "output_type": "stream",
     "text": [
      "The month is 1.\n"
     ]
    }
   ],
   "source": [
    "print(f'The month is {new_year.month}.')"
   ]
  },
  {
   "cell_type": "code",
   "execution_count": 11,
   "id": "e5d6029c",
   "metadata": {},
   "outputs": [
    {
     "name": "stdout",
     "output_type": "stream",
     "text": [
      "The day is 1.\n"
     ]
    }
   ],
   "source": [
    "print(f'The day is {new_year.day}.')"
   ]
  },
  {
   "cell_type": "code",
   "execution_count": 12,
   "id": "43186b70",
   "metadata": {},
   "outputs": [
    {
     "data": {
      "text/plain": [
       "['__new__',\n",
       " '__repr__',\n",
       " '__hash__',\n",
       " '__str__',\n",
       " '__getattribute__',\n",
       " '__lt__',\n",
       " '__le__',\n",
       " '__eq__',\n",
       " '__ne__',\n",
       " '__gt__',\n",
       " '__ge__',\n",
       " '__add__',\n",
       " '__radd__',\n",
       " '__sub__',\n",
       " '__rsub__',\n",
       " 'now',\n",
       " 'utcnow',\n",
       " 'fromtimestamp',\n",
       " 'utcfromtimestamp',\n",
       " 'strptime',\n",
       " 'combine',\n",
       " 'fromisoformat',\n",
       " 'date',\n",
       " 'time',\n",
       " 'timetz',\n",
       " 'ctime',\n",
       " 'timetuple',\n",
       " 'timestamp',\n",
       " 'utctimetuple',\n",
       " 'isoformat',\n",
       " 'utcoffset',\n",
       " 'tzname',\n",
       " 'dst',\n",
       " 'replace',\n",
       " 'astimezone',\n",
       " '__reduce_ex__',\n",
       " '__reduce__',\n",
       " 'hour',\n",
       " 'minute',\n",
       " 'second',\n",
       " 'microsecond',\n",
       " 'tzinfo',\n",
       " 'fold',\n",
       " '__doc__',\n",
       " 'min',\n",
       " 'max',\n",
       " 'resolution',\n",
       " 'fromordinal',\n",
       " 'fromisocalendar',\n",
       " 'today',\n",
       " 'strftime',\n",
       " '__format__',\n",
       " 'isocalendar',\n",
       " 'isoweekday',\n",
       " 'toordinal',\n",
       " 'weekday',\n",
       " 'year',\n",
       " 'month',\n",
       " 'day',\n",
       " '__setattr__',\n",
       " '__delattr__',\n",
       " '__init__',\n",
       " '__getstate__',\n",
       " '__subclasshook__',\n",
       " '__init_subclass__',\n",
       " '__sizeof__',\n",
       " '__dir__',\n",
       " '__class__']"
      ]
     },
     "execution_count": 12,
     "metadata": {},
     "output_type": "execute_result"
    }
   ],
   "source": [
    "new_year.__dir__()"
   ]
  },
  {
   "cell_type": "code",
   "execution_count": 30,
   "id": "0da23031",
   "metadata": {},
   "outputs": [
    {
     "name": "stdout",
     "output_type": "stream",
     "text": [
      "day: 1\n",
      "fold: 0\n",
      "hour: 0\n",
      "max: 9999-12-31 23:59:59.999999\n",
      "microsecond: 0\n",
      "min: 0001-01-01 00:00:00\n",
      "minute: 0\n",
      "month: 1\n",
      "resolution: 0:00:00.000001\n",
      "second: 1\n",
      "tzinfo: None\n",
      "year: 2025\n"
     ]
    }
   ],
   "source": [
    "n = new_year\n",
    "attrs = dir(n)\n",
    "attributes = []\n",
    "methods = []\n",
    "for attr in attrs:\n",
    "    if not callable(getattr(n,attr)) and not attr.startswith('__'):\n",
    "        attributes.append(attr)\n",
    "    else:\n",
    "        methods.append(attr)\n",
    "\n",
    "for attr in attributes:\n",
    "    print(f\"{attr}: {getattr(n,attr)}\")\n",
    "\n"
   ]
  },
  {
   "cell_type": "code",
   "execution_count": 36,
   "id": "bc115569",
   "metadata": {},
   "outputs": [
    {
     "ename": "AttributeError",
     "evalue": "'datetime.datetime' object has no attribute 'i'",
     "output_type": "error",
     "traceback": [
      "\u001b[1;31m---------------------------------------------------------------------------\u001b[0m",
      "\u001b[1;31mAttributeError\u001b[0m                            Traceback (most recent call last)",
      "Cell \u001b[1;32mIn[36], line 2\u001b[0m\n\u001b[0;32m      1\u001b[0m \u001b[38;5;28;01mfor\u001b[39;00m i \u001b[38;5;129;01min\u001b[39;00m \u001b[38;5;28mdir\u001b[39m(n):\n\u001b[1;32m----> 2\u001b[0m     \u001b[38;5;28mprint\u001b[39m(\u001b[38;5;28mtype\u001b[39m(\u001b[38;5;124mf\u001b[39m\u001b[38;5;124m'\u001b[39m\u001b[38;5;132;01m{\u001b[39;00mn\u001b[38;5;241m.\u001b[39mi\u001b[38;5;132;01m}\u001b[39;00m\u001b[38;5;124m'\u001b[39m))\n",
      "\u001b[1;31mAttributeError\u001b[0m: 'datetime.datetime' object has no attribute 'i'"
     ]
    }
   ],
   "source": []
  },
  {
   "cell_type": "code",
   "execution_count": null,
   "id": "c750adf6",
   "metadata": {},
   "outputs": [],
   "source": []
  }
 ],
 "metadata": {
  "kernelspec": {
   "display_name": "pandas_cbtn",
   "language": "python",
   "name": "python3"
  },
  "language_info": {
   "codemirror_mode": {
    "name": "ipython",
    "version": 3
   },
   "file_extension": ".py",
   "mimetype": "text/x-python",
   "name": "python",
   "nbconvert_exporter": "python",
   "pygments_lexer": "ipython3",
   "version": "3.12.7"
  }
 },
 "nbformat": 4,
 "nbformat_minor": 5
}
