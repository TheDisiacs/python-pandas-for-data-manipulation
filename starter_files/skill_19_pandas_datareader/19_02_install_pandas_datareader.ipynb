{
 "cells": [
  {
   "cell_type": "markdown",
   "id": "f7b0de1e",
   "metadata": {},
   "source": [
    "# Pandas `.DataReader()`\n",
    "Be sure that your Jupyter notebook session is running inside of the conda environment you created for these .ipynb files. You don't want to be in the base environment, so be sure to check in the terminal and activate your conda environment if needed.\n",
    "\n",
    "The datareader library is one way to get data from the internet. You could web scrape this data and convert into a DataFrame, but if you don't know how to webscape, datareader is a great way to get started!\n",
    "\n",
    "In the next series of lessons, we'll examin crypto currencies and use their date/time data to get an opportunity to work with live data without web scraping."
   ]
  },
  {
   "cell_type": "code",
   "execution_count": 1,
   "id": "2afe606f",
   "metadata": {
    "scrolled": true
   },
   "outputs": [
    {
     "name": "stdout",
     "output_type": "stream",
     "text": [
      "\n",
      "# conda environments:\n",
      "#\n",
      "base                   C:\\Users\\alouden01\\AppData\\Local\\anaconda3\n",
      "pandas_cbtn          * C:\\Users\\alouden01\\AppData\\Local\\anaconda3\\envs\\pandas_cbtn\n",
      "\n"
     ]
    }
   ],
   "source": [
    "# Be sure you are using the right conda environment, not base\n",
    "!conda info --envs"
   ]
  },
  {
   "cell_type": "code",
   "execution_count": 2,
   "id": "eeab1b93",
   "metadata": {},
   "outputs": [],
   "source": [
    "# activate conda environment\n",
    "# !conda activate C:\\Users\\alouden01\\AppData\\Local\\anaconda3\\envs\\pandas_cbtn"
   ]
  },
  {
   "cell_type": "code",
   "execution_count": 4,
   "id": "5aac4950",
   "metadata": {},
   "outputs": [],
   "source": [
    "# install data reader library, the -y flag silently agrees to install\n",
    "# normally conda would ask you if you want to install a package\n",
    "# installed_packages = !conda list"
   ]
  },
  {
   "cell_type": "code",
   "execution_count": 6,
   "id": "6d18bbc0",
   "metadata": {},
   "outputs": [
    {
     "name": "stdout",
     "output_type": "stream",
     "text": [
      "python-tzdata             2023.3             pyhd3eb1b0_0  \n",
      "stack_data                0.2.0              pyhd3eb1b0_0  \n",
      "tzdata                    2024b                h04d1e81_0  \n",
      "unicodedata2              15.1.0          py312h2bbff1b_0  \n"
     ]
    }
   ],
   "source": [
    "# for p in installed_packages:\n",
    "#     if 'data' in p:\n",
    "#         print(p)"
   ]
  },
  {
   "cell_type": "code",
   "execution_count": null,
   "id": "cb745ae9",
   "metadata": {},
   "outputs": [
    {
     "name": "stdout",
     "output_type": "stream",
     "text": [
      "Retrieving notices: done\n",
      "Channels:\n",
      " - defaults\n",
      "Platform: win-64\n",
      "Collecting package metadata (repodata.json): ...working... done\n",
      "Solving environment: ...working... done\n",
      "\n",
      "## Package Plan ##\n",
      "\n",
      "  environment location: C:\\Users\\alouden01\\AppData\\Local\\anaconda3\\envs\\pandas_cbtn\n",
      "\n",
      "  added / updated specs:\n",
      "    - pandas-datareader\n",
      "\n",
      "\n",
      "The following packages will be downloaded:\n",
      "\n",
      "    package                    |            build\n",
      "    ---------------------------|-----------------\n",
      "    certifi-2024.12.14         |  py312haa95532_0         162 KB\n",
      "    libiconv-1.16              |       h2bbff1b_3         685 KB\n",
      "    libxml2-2.13.5             |       h24da03e_0         2.9 MB\n",
      "    libxslt-1.1.41             |       h0739af5_0         467 KB\n",
      "    lxml-5.3.0                 |  py312h395c83e_0         1.1 MB\n",
      "    pandas-datareader-0.10.0   |     pyhd3eb1b0_0          71 KB\n",
      "    ------------------------------------------------------------\n",
      "                                           Total:         5.4 MB\n",
      "\n",
      "The following NEW packages will be INSTALLED:\n",
      "\n",
      "  libiconv           pkgs/main/win-64::libiconv-1.16-h2bbff1b_3 \n",
      "  libxml2            pkgs/main/win-64::libxml2-2.13.5-h24da03e_0 \n",
      "  libxslt            pkgs/main/win-64::libxslt-1.1.41-h0739af5_0 \n",
      "  lxml               pkgs/main/win-64::lxml-5.3.0-py312h395c83e_0 \n",
      "  pandas-datareader  pkgs/main/noarch::pandas-datareader-0.10.0-pyhd3eb1b0_0 \n",
      "\n",
      "The following packages will be UPDATED:\n",
      "\n",
      "  certifi                         2024.8.30-py312haa95532_0 --> 2024.12.14-py312haa95532_0 \n",
      "\n",
      "\n",
      "\n",
      "Downloading and Extracting Packages: ...working...\n",
      "libxml2-2.13.5       | 2.9 MB    |            |   0% \n",
      "\n",
      "lxml-5.3.0           | 1.1 MB    |            |   0% \u001b[A\n",
      "\n",
      "\n",
      "libiconv-1.16        | 685 KB    |            |   0% \u001b[A\u001b[A\n",
      "\n",
      "\n",
      "\n",
      "libxslt-1.1.41       | 467 KB    |            |   0% \u001b[A\u001b[A\u001b[A\n",
      "\n",
      "\n",
      "\n",
      "\n",
      "certifi-2024.12.14   | 162 KB    |            |   0% \u001b[A\u001b[A\u001b[A\u001b[A\n",
      "\n",
      "\n",
      "\n",
      "\n",
      "\n",
      "pandas-datareader-0. | 71 KB     |            |   0% \u001b[A\u001b[A\u001b[A\u001b[A\u001b[A\n",
      "libxml2-2.13.5       | 2.9 MB    | 1          |   1% \n",
      "\n",
      "\n",
      "libiconv-1.16        | 685 KB    | 2          |   2% \u001b[A\u001b[A\n",
      "\n",
      "lxml-5.3.0           | 1.1 MB    | 1          |   1% \u001b[A\n",
      "\n",
      "\n",
      "\n",
      "libxslt-1.1.41       | 467 KB    | 3          |   3% \u001b[A\u001b[A\u001b[A\n",
      "\n",
      "\n",
      "\n",
      "\n",
      "certifi-2024.12.14   | 162 KB    | 9          |  10% \u001b[A\u001b[A\u001b[A\u001b[A\n",
      "\n",
      "\n",
      "libiconv-1.16        | 685 KB    | ##8        |  28% \u001b[A\u001b[A\n",
      "libxml2-2.13.5       | 2.9 MB    | #6         |  17% \n",
      "\n",
      "\n",
      "\n",
      "\n",
      "certifi-2024.12.14   | 162 KB    | ########## | 100% \u001b[A\u001b[A\u001b[A\u001b[A\n",
      "\n",
      "lxml-5.3.0           | 1.1 MB    | ##1        |  22% \u001b[A\n",
      "\n",
      "\n",
      "libiconv-1.16        | 685 KB    | #######    |  70% \u001b[A\u001b[A\n",
      "\n",
      "\n",
      "\n",
      "libxslt-1.1.41       | 467 KB    | ###7       |  38% \u001b[A\u001b[A\u001b[A\n",
      "libxml2-2.13.5       | 2.9 MB    | ###7       |  38% \n",
      "\n",
      "\n",
      "libiconv-1.16        | 685 KB    | ########## | 100% \u001b[A\u001b[A\n",
      "\n",
      "\n",
      "\n",
      "\n",
      "\n",
      "pandas-datareader-0. | 71 KB     | ##2        |  22% \u001b[A\u001b[A\u001b[A\u001b[A\u001b[A\n",
      "\n",
      "lxml-5.3.0           | 1.1 MB    | ######9    |  70% \u001b[A\n",
      "\n",
      "\n",
      "\n",
      "\n",
      "\n",
      "pandas-datareader-0. | 71 KB     | ########## | 100% \u001b[A\u001b[A\u001b[A\u001b[A\u001b[A\n",
      "\n",
      "\n",
      "\n",
      "\n",
      "certifi-2024.12.14   | 162 KB    | ########## | 100% \u001b[A\u001b[A\u001b[A\u001b[A\n",
      "\n",
      "\n",
      "\n",
      "\n",
      "certifi-2024.12.14   | 162 KB    | ########## | 100% \u001b[A\u001b[A\u001b[A\u001b[A\n",
      "libxml2-2.13.5       | 2.9 MB    | #####6     |  56% \n",
      "\n",
      "\n",
      "\n",
      "libxslt-1.1.41       | 467 KB    | ########9  |  89% \u001b[A\u001b[A\u001b[A\n",
      "\n",
      "\n",
      "\n",
      "libxslt-1.1.41       | 467 KB    | ########## | 100% \u001b[A\u001b[A\u001b[A\n",
      "\n",
      "lxml-5.3.0           | 1.1 MB    | ########## | 100% \u001b[A\n",
      "\n",
      "lxml-5.3.0           | 1.1 MB    | ########## | 100% \u001b[A\n",
      "libxml2-2.13.5       | 2.9 MB    | #######    |  71% \n",
      "\n",
      "\n",
      "libiconv-1.16        | 685 KB    | ########## | 100% \u001b[A\u001b[A\n",
      "\n",
      "\n",
      "libiconv-1.16        | 685 KB    | ########## | 100% \u001b[A\u001b[A\n",
      "libxml2-2.13.5       | 2.9 MB    | ########## | 100% \n",
      "\n",
      "\n",
      "\n",
      "libxslt-1.1.41       | 467 KB    | ########## | 100% \u001b[A\u001b[A\u001b[A\n",
      "\n",
      "\n",
      "\n",
      "\n",
      "\n",
      "pandas-datareader-0. | 71 KB     | ########## | 100% \u001b[A\u001b[A\u001b[A\u001b[A\u001b[A\n",
      "\n",
      "\n",
      "\n",
      "\n",
      "\n",
      "pandas-datareader-0. | 71 KB     | ########## | 100% \u001b[A\u001b[A\u001b[A\u001b[A\u001b[A\n",
      "libxml2-2.13.5       | 2.9 MB    | ########## | 100% \n",
      "libxml2-2.13.5       | 2.9 MB    | ########## | 100% \n",
      "\n",
      "lxml-5.3.0           | 1.1 MB    | ########## | 100% \u001b[A\n",
      "                                                     \n",
      "\n",
      "\n",
      "                                                     \u001b[A\n",
      "\n",
      "\n",
      "                                                     \u001b[A\u001b[A\n",
      "\n",
      "\n",
      "\n",
      "                                                     \u001b[A\u001b[A\u001b[A\n",
      "\n",
      "\n",
      "\n",
      "\n",
      "                                                     \u001b[A\u001b[A\u001b[A\u001b[A\n",
      "\n",
      "\n",
      "\n",
      "\n",
      "\n",
      "                                                     \u001b[A\u001b[A\u001b[A\u001b[A\u001b[A done\n",
      "Preparing transaction: done\n",
      "Verifying transaction: done\n",
      "Executing transaction: done\n"
     ]
    }
   ],
   "source": [
    "# !conda install pandas-datareader -y"
   ]
  },
  {
   "cell_type": "code",
   "execution_count": 9,
   "id": "a7faffca",
   "metadata": {},
   "outputs": [],
   "source": [
    "\n",
    "installed_packages = !conda list"
   ]
  },
  {
   "cell_type": "code",
   "execution_count": 10,
   "id": "ab759e09",
   "metadata": {},
   "outputs": [
    {
     "name": "stdout",
     "output_type": "stream",
     "text": [
      "pandas-datareader         0.10.0             pyhd3eb1b0_0  \n",
      "python-tzdata             2023.3             pyhd3eb1b0_0  \n",
      "stack_data                0.2.0              pyhd3eb1b0_0  \n",
      "tzdata                    2024b                h04d1e81_0  \n",
      "unicodedata2              15.1.0          py312h2bbff1b_0  \n"
     ]
    }
   ],
   "source": [
    "for p in installed_packages:\n",
    "    if 'data' in p:\n",
    "        print(p)"
   ]
  },
  {
   "cell_type": "code",
   "execution_count": null,
   "id": "1ec10a40",
   "metadata": {},
   "outputs": [],
   "source": []
  }
 ],
 "metadata": {
  "kernelspec": {
   "display_name": "pandas_cbtn",
   "language": "python",
   "name": "python3"
  },
  "language_info": {
   "codemirror_mode": {
    "name": "ipython",
    "version": 3
   },
   "file_extension": ".py",
   "mimetype": "text/x-python",
   "name": "python",
   "nbconvert_exporter": "python",
   "pygments_lexer": "ipython3",
   "version": "3.12.7"
  }
 },
 "nbformat": 4,
 "nbformat_minor": 5
}
