{
 "cells": [
  {
   "cell_type": "markdown",
   "id": "962bbf85",
   "metadata": {},
   "source": [
    "# Find duplicates with `.duplicated()`"
   ]
  },
  {
   "cell_type": "markdown",
   "id": "3838f587",
   "metadata": {},
   "source": [
    "### Import Pandas"
   ]
  },
  {
   "cell_type": "code",
   "execution_count": 2,
   "id": "5a21c7e0",
   "metadata": {},
   "outputs": [],
   "source": [
    "# import pandas\n",
    "import pandas as pd\n",
    "from pathlib import Path\n",
    "path = Path('C:/Users/alouden01/Documents/python-pandas-for-data-manipulation/starter_files/skill_10_filtering_duplicates/employee.csv')"
   ]
  },
  {
   "cell_type": "markdown",
   "id": "06f0bd60",
   "metadata": {},
   "source": [
    "### Read CSV"
   ]
  },
  {
   "cell_type": "code",
   "execution_count": 3,
   "id": "419a872c",
   "metadata": {},
   "outputs": [],
   "source": [
    "# read csv and parse the date column\n",
    "emp = pd.read_csv(path, parse_dates=['start_date'])"
   ]
  },
  {
   "cell_type": "code",
   "execution_count": 4,
   "id": "a60d85fc",
   "metadata": {},
   "outputs": [],
   "source": [
    "# sort values by first_name\n",
    "emp.sort_values('first_name', inplace=True)"
   ]
  },
  {
   "cell_type": "code",
   "execution_count": null,
   "id": "152da833",
   "metadata": {},
   "outputs": [],
   "source": []
  },
  {
   "cell_type": "code",
   "execution_count": null,
   "id": "69ee77f4",
   "metadata": {},
   "outputs": [],
   "source": []
  },
  {
   "cell_type": "code",
   "execution_count": 5,
   "id": "f901657b",
   "metadata": {},
   "outputs": [],
   "source": [
    "# by default does not return first duplicate instance\n"
   ]
  },
  {
   "cell_type": "code",
   "execution_count": 19,
   "id": "961bf29d",
   "metadata": {},
   "outputs": [
    {
     "data": {
      "text/plain": [
       "872     True\n",
       "619    False\n",
       "74     False\n",
       "535    False\n",
       "898    False\n",
       "       ...  \n",
       "550    False\n",
       "540    False\n",
       "675    False\n",
       "783     True\n",
       "476    False\n",
       "Name: first_name, Length: 1000, dtype: bool"
      ]
     },
     "execution_count": 19,
     "metadata": {},
     "output_type": "execute_result"
    }
   ],
   "source": [
    "# keep= \"first\" | \"last\" | False\n",
    "all_dupes = emp['first_name'].duplicated(keep='last')\n",
    "all_dupes"
   ]
  },
  {
   "cell_type": "code",
   "execution_count": 20,
   "id": "2f60aacb",
   "metadata": {},
   "outputs": [
    {
     "data": {
      "text/html": [
       "<div>\n",
       "<style scoped>\n",
       "    .dataframe tbody tr th:only-of-type {\n",
       "        vertical-align: middle;\n",
       "    }\n",
       "\n",
       "    .dataframe tbody tr th {\n",
       "        vertical-align: top;\n",
       "    }\n",
       "\n",
       "    .dataframe thead th {\n",
       "        text-align: right;\n",
       "    }\n",
       "</style>\n",
       "<table border=\"1\" class=\"dataframe\">\n",
       "  <thead>\n",
       "    <tr style=\"text-align: right;\">\n",
       "      <th></th>\n",
       "      <th>first_name</th>\n",
       "      <th>last_name</th>\n",
       "      <th>salary</th>\n",
       "      <th>start_date</th>\n",
       "      <th>gender</th>\n",
       "      <th>remote</th>\n",
       "      <th>team</th>\n",
       "    </tr>\n",
       "  </thead>\n",
       "  <tbody>\n",
       "    <tr>\n",
       "      <th>872</th>\n",
       "      <td>Aaron</td>\n",
       "      <td>Caddens</td>\n",
       "      <td>583629</td>\n",
       "      <td>2020-10-05</td>\n",
       "      <td>Female</td>\n",
       "      <td>True</td>\n",
       "      <td>marketing</td>\n",
       "    </tr>\n",
       "    <tr>\n",
       "      <th>371</th>\n",
       "      <td>Adrianne</td>\n",
       "      <td>Fishbourne</td>\n",
       "      <td>530451</td>\n",
       "      <td>2020-07-04</td>\n",
       "      <td>Polygender</td>\n",
       "      <td>True</td>\n",
       "      <td>marketing</td>\n",
       "    </tr>\n",
       "    <tr>\n",
       "      <th>142</th>\n",
       "      <td>Aluino</td>\n",
       "      <td>Kubal</td>\n",
       "      <td>413941</td>\n",
       "      <td>2020-07-24</td>\n",
       "      <td>Female</td>\n",
       "      <td>True</td>\n",
       "      <td>management</td>\n",
       "    </tr>\n",
       "    <tr>\n",
       "      <th>978</th>\n",
       "      <td>Ariana</td>\n",
       "      <td>Glendza</td>\n",
       "      <td>221789</td>\n",
       "      <td>2020-06-03</td>\n",
       "      <td>Polygender</td>\n",
       "      <td>False</td>\n",
       "      <td>data analytics</td>\n",
       "    </tr>\n",
       "    <tr>\n",
       "      <th>732</th>\n",
       "      <td>Arin</td>\n",
       "      <td>Swannick</td>\n",
       "      <td>728101</td>\n",
       "      <td>2021-01-11</td>\n",
       "      <td>Female</td>\n",
       "      <td>False</td>\n",
       "      <td>engineering</td>\n",
       "    </tr>\n",
       "  </tbody>\n",
       "</table>\n",
       "</div>"
      ],
      "text/plain": [
       "    first_name   last_name  salary start_date      gender  remote  \\\n",
       "872      Aaron     Caddens  583629 2020-10-05      Female    True   \n",
       "371   Adrianne  Fishbourne  530451 2020-07-04  Polygender    True   \n",
       "142     Aluino       Kubal  413941 2020-07-24      Female    True   \n",
       "978     Ariana     Glendza  221789 2020-06-03  Polygender   False   \n",
       "732       Arin    Swannick  728101 2021-01-11      Female   False   \n",
       "\n",
       "               team  \n",
       "872       marketing  \n",
       "371       marketing  \n",
       "142      management  \n",
       "978  data analytics  \n",
       "732     engineering  "
      ]
     },
     "execution_count": 20,
     "metadata": {},
     "output_type": "execute_result"
    }
   ],
   "source": [
    "emp[all_dupes].head()\n",
    "\n",
    "# clarinda_mask = emp['first_name'] == 'Clarinda'\n",
    "# dup_mask = emp['first_name'].duplicated()\n",
    "# # emp[clarinda_mask]\n",
    "# clar_mask = emp['first_name'].str.contains('Clar', regex=False)\n",
    "# emp[clar_mask]\n",
    "\n"
   ]
  },
  {
   "cell_type": "code",
   "execution_count": null,
   "id": "c8c2a10c",
   "metadata": {},
   "outputs": [],
   "source": []
  },
  {
   "cell_type": "code",
   "execution_count": 8,
   "id": "05a8a7bf",
   "metadata": {},
   "outputs": [],
   "source": [
    "# reverse values with ~  tilde\n"
   ]
  },
  {
   "cell_type": "code",
   "execution_count": null,
   "id": "51815ac8",
   "metadata": {},
   "outputs": [],
   "source": []
  },
  {
   "cell_type": "code",
   "execution_count": 9,
   "id": "cfc8c23c",
   "metadata": {},
   "outputs": [],
   "source": [
    "# returns unique values 🎉\n"
   ]
  }
 ],
 "metadata": {
  "kernelspec": {
   "display_name": "pandas_cbtn",
   "language": "python",
   "name": "python3"
  },
  "language_info": {
   "codemirror_mode": {
    "name": "ipython",
    "version": 3
   },
   "file_extension": ".py",
   "mimetype": "text/x-python",
   "name": "python",
   "nbconvert_exporter": "python",
   "pygments_lexer": "ipython3",
   "version": "3.12.7"
  }
 },
 "nbformat": 4,
 "nbformat_minor": 5
}
