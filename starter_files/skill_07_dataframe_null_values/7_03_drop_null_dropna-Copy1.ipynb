{
 "cells": [
  {
   "cell_type": "markdown",
   "metadata": {},
   "source": [
    "# `.dropna()` to drop NULL values"
   ]
  },
  {
   "cell_type": "markdown",
   "metadata": {},
   "source": [
    "### Import Pandas"
   ]
  },
  {
   "cell_type": "code",
   "execution_count": 1,
   "metadata": {},
   "outputs": [],
   "source": [
    "# import pandas\n",
    "import pandas as pd\n",
    "from pathlib import Path"
   ]
  },
  {
   "cell_type": "markdown",
   "metadata": {},
   "source": [
    "### U.S. Major League Soccer Salaries"
   ]
  },
  {
   "cell_type": "code",
   "execution_count": 3,
   "metadata": {},
   "outputs": [
    {
     "data": {
      "text/html": [
       "<div>\n",
       "<style scoped>\n",
       "    .dataframe tbody tr th:only-of-type {\n",
       "        vertical-align: middle;\n",
       "    }\n",
       "\n",
       "    .dataframe tbody tr th {\n",
       "        vertical-align: top;\n",
       "    }\n",
       "\n",
       "    .dataframe thead th {\n",
       "        text-align: right;\n",
       "    }\n",
       "</style>\n",
       "<table border=\"1\" class=\"dataframe\">\n",
       "  <thead>\n",
       "    <tr style=\"text-align: right;\">\n",
       "      <th></th>\n",
       "      <th>club</th>\n",
       "      <th>last_name</th>\n",
       "      <th>first_name</th>\n",
       "      <th>position</th>\n",
       "      <th>base_salary</th>\n",
       "      <th>guaranteed_compensation</th>\n",
       "    </tr>\n",
       "  </thead>\n",
       "  <tbody>\n",
       "    <tr>\n",
       "      <th>0</th>\n",
       "      <td>ATL</td>\n",
       "      <td>Almiron</td>\n",
       "      <td>Miguel</td>\n",
       "      <td>M</td>\n",
       "      <td>1912500.0</td>\n",
       "      <td>2297000.00</td>\n",
       "    </tr>\n",
       "    <tr>\n",
       "      <th>1</th>\n",
       "      <td>ATL</td>\n",
       "      <td>Ambrose</td>\n",
       "      <td>Mikey</td>\n",
       "      <td>D</td>\n",
       "      <td>65625.0</td>\n",
       "      <td>65625.00</td>\n",
       "    </tr>\n",
       "    <tr>\n",
       "      <th>2</th>\n",
       "      <td>ATL</td>\n",
       "      <td>Asad</td>\n",
       "      <td>Yamil</td>\n",
       "      <td>M</td>\n",
       "      <td>150000.0</td>\n",
       "      <td>150000.00</td>\n",
       "    </tr>\n",
       "    <tr>\n",
       "      <th>3</th>\n",
       "      <td>ATL</td>\n",
       "      <td>Bloom</td>\n",
       "      <td>Mark</td>\n",
       "      <td>D</td>\n",
       "      <td>99225.0</td>\n",
       "      <td>106573.89</td>\n",
       "    </tr>\n",
       "    <tr>\n",
       "      <th>4</th>\n",
       "      <td>ATL</td>\n",
       "      <td>Carleton</td>\n",
       "      <td>Andrew</td>\n",
       "      <td>F</td>\n",
       "      <td>65000.0</td>\n",
       "      <td>77400.00</td>\n",
       "    </tr>\n",
       "  </tbody>\n",
       "</table>\n",
       "</div>"
      ],
      "text/plain": [
       "  club last_name first_name position  base_salary  guaranteed_compensation\n",
       "0  ATL   Almiron     Miguel        M    1912500.0               2297000.00\n",
       "1  ATL   Ambrose      Mikey        D      65625.0                 65625.00\n",
       "2  ATL      Asad      Yamil        M     150000.0                150000.00\n",
       "3  ATL     Bloom       Mark        D      99225.0                106573.89\n",
       "4  ATL  Carleton     Andrew        F      65000.0                 77400.00"
      ]
     },
     "execution_count": 3,
     "metadata": {},
     "output_type": "execute_result"
    }
   ],
   "source": [
    "path = Path('C:/Users/alouden01/Documents/python-pandas-for-data-manipulation/starter_files/skill_07_dataframe_null_values/mls_salaries.csv')\n",
    "salaries = pd.read_csv(path)\n",
    "salaries.head()"
   ]
  },
  {
   "cell_type": "markdown",
   "metadata": {},
   "source": [
    "### Remove NaN values"
   ]
  },
  {
   "cell_type": "code",
   "execution_count": 4,
   "metadata": {},
   "outputs": [
    {
     "name": "stdout",
     "output_type": "stream",
     "text": [
      "<class 'pandas.core.frame.DataFrame'>\n",
      "RangeIndex: 615 entries, 0 to 614\n",
      "Data columns (total 6 columns):\n",
      " #   Column                   Non-Null Count  Dtype  \n",
      "---  ------                   --------------  -----  \n",
      " 0   club                     614 non-null    object \n",
      " 1   last_name                614 non-null    object \n",
      " 2   first_name               610 non-null    object \n",
      " 3   position                 604 non-null    object \n",
      " 4   base_salary              614 non-null    float64\n",
      " 5   guaranteed_compensation  614 non-null    float64\n",
      "dtypes: float64(2), object(4)\n",
      "memory usage: 29.0+ KB\n"
     ]
    }
   ],
   "source": [
    "# return the DataFrame\n",
    "salaries.info()"
   ]
  },
  {
   "cell_type": "markdown",
   "metadata": {},
   "source": [
    "### Return information about the DataFrame including Non_Null Count"
   ]
  },
  {
   "cell_type": "code",
   "execution_count": null,
   "metadata": {
    "scrolled": true
   },
   "outputs": [],
   "source": []
  },
  {
   "cell_type": "markdown",
   "metadata": {},
   "source": [
    "### Drop any rows with missing values"
   ]
  },
  {
   "cell_type": "code",
   "execution_count": 22,
   "metadata": {},
   "outputs": [
    {
     "data": {
      "text/plain": [
       "'c:\\\\Users\\\\alouden01\\\\Documents\\\\python-pandas-for-data-manipulation'"
      ]
     },
     "execution_count": 22,
     "metadata": {},
     "output_type": "execute_result"
    }
   ],
   "source": [
    "# drop any row that contains a NaN value by default (how='any')\n",
    "s: pd.DataFrame = salaries.dropna(how='any')\n",
    "import os\n",
    "os.getcwd()"
   ]
  },
  {
   "cell_type": "markdown",
   "metadata": {},
   "source": [
    "### Return information about the DataFrame including Non_Null Count"
   ]
  },
  {
   "cell_type": "code",
   "execution_count": null,
   "metadata": {
    "scrolled": true
   },
   "outputs": [],
   "source": []
  },
  {
   "cell_type": "markdown",
   "metadata": {},
   "source": [
    "### Return DataFrame without null values"
   ]
  },
  {
   "cell_type": "code",
   "execution_count": null,
   "metadata": {
    "scrolled": false
   },
   "outputs": [
    {
     "name": "stdout",
     "output_type": "stream",
     "text": [
      "<class 'pandas.core.frame.DataFrame'>\n",
      "Index: 600 entries, 0 to 614\n",
      "Data columns (total 6 columns):\n",
      " #   Column                   Non-Null Count  Dtype  \n",
      "---  ------                   --------------  -----  \n",
      " 0   club                     600 non-null    object \n",
      " 1   last_name                600 non-null    object \n",
      " 2   first_name               600 non-null    object \n",
      " 3   position                 600 non-null    object \n",
      " 4   base_salary              600 non-null    float64\n",
      " 5   guaranteed_compensation  600 non-null    float64\n",
      "dtypes: float64(2), object(4)\n",
      "memory usage: 32.8+ KB\n"
     ]
    }
   ],
   "source": [
    "# return the DataFrame with no NaN values\n",
    "salaries.dropna(subset=['first_name','position'],inplace=True)\n",
    "salaries.info()"
   ]
  },
  {
   "cell_type": "markdown",
   "metadata": {},
   "source": [
    "### Reset dataset"
   ]
  },
  {
   "cell_type": "code",
   "execution_count": 26,
   "metadata": {},
   "outputs": [
    {
     "data": {
      "text/html": [
       "<div>\n",
       "<style scoped>\n",
       "    .dataframe tbody tr th:only-of-type {\n",
       "        vertical-align: middle;\n",
       "    }\n",
       "\n",
       "    .dataframe tbody tr th {\n",
       "        vertical-align: top;\n",
       "    }\n",
       "\n",
       "    .dataframe thead th {\n",
       "        text-align: right;\n",
       "    }\n",
       "</style>\n",
       "<table border=\"1\" class=\"dataframe\">\n",
       "  <thead>\n",
       "    <tr style=\"text-align: right;\">\n",
       "      <th></th>\n",
       "      <th>club</th>\n",
       "      <th>last_name</th>\n",
       "      <th>first_name</th>\n",
       "      <th>position</th>\n",
       "      <th>base_salary</th>\n",
       "      <th>guaranteed_compensation</th>\n",
       "    </tr>\n",
       "  </thead>\n",
       "  <tbody>\n",
       "    <tr>\n",
       "      <th>610</th>\n",
       "      <td>VAN</td>\n",
       "      <td>Teibert</td>\n",
       "      <td>Russell</td>\n",
       "      <td>M</td>\n",
       "      <td>126500.0</td>\n",
       "      <td>194000.0</td>\n",
       "    </tr>\n",
       "    <tr>\n",
       "      <th>611</th>\n",
       "      <td>VAN</td>\n",
       "      <td>Tornaghi</td>\n",
       "      <td>Paolo</td>\n",
       "      <td>GK</td>\n",
       "      <td>80000.0</td>\n",
       "      <td>80000.0</td>\n",
       "    </tr>\n",
       "    <tr>\n",
       "      <th>612</th>\n",
       "      <td>VAN</td>\n",
       "      <td>Waston</td>\n",
       "      <td>Kendall</td>\n",
       "      <td>D</td>\n",
       "      <td>350000.0</td>\n",
       "      <td>368125.0</td>\n",
       "    </tr>\n",
       "    <tr>\n",
       "      <th>613</th>\n",
       "      <td>NaN</td>\n",
       "      <td>NaN</td>\n",
       "      <td>NaN</td>\n",
       "      <td>NaN</td>\n",
       "      <td>NaN</td>\n",
       "      <td>NaN</td>\n",
       "    </tr>\n",
       "    <tr>\n",
       "      <th>614</th>\n",
       "      <td>VAN</td>\n",
       "      <td>Williams</td>\n",
       "      <td>Sheanon</td>\n",
       "      <td>D</td>\n",
       "      <td>175000.0</td>\n",
       "      <td>184000.0</td>\n",
       "    </tr>\n",
       "  </tbody>\n",
       "</table>\n",
       "</div>"
      ],
      "text/plain": [
       "    club last_name first_name position  base_salary  guaranteed_compensation\n",
       "610  VAN   Teibert    Russell        M     126500.0                 194000.0\n",
       "611  VAN  Tornaghi      Paolo       GK      80000.0                  80000.0\n",
       "612  VAN    Waston    Kendall        D     350000.0                 368125.0\n",
       "613  NaN       NaN        NaN      NaN          NaN                      NaN\n",
       "614  VAN  Williams    Sheanon        D     175000.0                 184000.0"
      ]
     },
     "execution_count": 26,
     "metadata": {},
     "output_type": "execute_result"
    }
   ],
   "source": [
    "# reset by re-reading original dataset\n",
    "salaries = pd.read_csv(path)\n",
    "salaries.tail()"
   ]
  },
  {
   "cell_type": "markdown",
   "metadata": {},
   "source": [
    "### Remove NaN values by column"
   ]
  },
  {
   "cell_type": "code",
   "execution_count": null,
   "metadata": {},
   "outputs": [],
   "source": [
    "# fisrt, return a column as a Series from the DataFrame\n"
   ]
  },
  {
   "cell_type": "code",
   "execution_count": null,
   "metadata": {},
   "outputs": [],
   "source": [
    "# you can also use a list to specify which columns to target using subset=\n"
   ]
  },
  {
   "cell_type": "code",
   "execution_count": null,
   "metadata": {
    "scrolled": true
   },
   "outputs": [],
   "source": [
    "# no NaN values\n"
   ]
  },
  {
   "cell_type": "markdown",
   "metadata": {},
   "source": [
    "### Reset dataset"
   ]
  },
  {
   "cell_type": "code",
   "execution_count": null,
   "metadata": {},
   "outputs": [],
   "source": [
    "# reset by re-reading original dataset\n"
   ]
  },
  {
   "cell_type": "code",
   "execution_count": null,
   "metadata": {},
   "outputs": [],
   "source": []
  },
  {
   "cell_type": "code",
   "execution_count": null,
   "metadata": {},
   "outputs": [],
   "source": [
    "# drop only rows with all null values (how='all')\n"
   ]
  },
  {
   "cell_type": "code",
   "execution_count": null,
   "metadata": {},
   "outputs": [],
   "source": []
  },
  {
   "cell_type": "code",
   "execution_count": null,
   "metadata": {},
   "outputs": [],
   "source": [
    "# make drop permanent with inplace\n"
   ]
  },
  {
   "cell_type": "code",
   "execution_count": null,
   "metadata": {
    "scrolled": true
   },
   "outputs": [],
   "source": [
    "# it is now permanent\n"
   ]
  },
  {
   "cell_type": "markdown",
   "metadata": {},
   "source": [
    "### Reset dataset"
   ]
  },
  {
   "cell_type": "code",
   "execution_count": null,
   "metadata": {},
   "outputs": [],
   "source": [
    "# reset by re-reading original dataset\n"
   ]
  },
  {
   "cell_type": "code",
   "execution_count": null,
   "metadata": {},
   "outputs": [],
   "source": []
  },
  {
   "cell_type": "code",
   "execution_count": null,
   "metadata": {},
   "outputs": [],
   "source": []
  },
  {
   "cell_type": "code",
   "execution_count": null,
   "metadata": {
    "scrolled": true
   },
   "outputs": [
    {
     "data": {
      "text/html": [
       "<div>\n",
       "<style scoped>\n",
       "    .dataframe tbody tr th:only-of-type {\n",
       "        vertical-align: middle;\n",
       "    }\n",
       "\n",
       "    .dataframe tbody tr th {\n",
       "        vertical-align: top;\n",
       "    }\n",
       "\n",
       "    .dataframe thead th {\n",
       "        text-align: right;\n",
       "    }\n",
       "</style>\n",
       "<table border=\"1\" class=\"dataframe\">\n",
       "  <thead>\n",
       "    <tr style=\"text-align: right;\">\n",
       "      <th></th>\n",
       "      <th>club</th>\n",
       "      <th>last_name</th>\n",
       "      <th>base_salary</th>\n",
       "      <th>guaranteed_compensation</th>\n",
       "    </tr>\n",
       "  </thead>\n",
       "  <tbody>\n",
       "    <tr>\n",
       "      <th>0</th>\n",
       "      <td>ATL</td>\n",
       "      <td>Almiron</td>\n",
       "      <td>1912500.0</td>\n",
       "      <td>2297000.00</td>\n",
       "    </tr>\n",
       "    <tr>\n",
       "      <th>1</th>\n",
       "      <td>ATL</td>\n",
       "      <td>Ambrose</td>\n",
       "      <td>65625.0</td>\n",
       "      <td>65625.00</td>\n",
       "    </tr>\n",
       "    <tr>\n",
       "      <th>2</th>\n",
       "      <td>ATL</td>\n",
       "      <td>Asad</td>\n",
       "      <td>150000.0</td>\n",
       "      <td>150000.00</td>\n",
       "    </tr>\n",
       "    <tr>\n",
       "      <th>3</th>\n",
       "      <td>ATL</td>\n",
       "      <td>Bloom</td>\n",
       "      <td>99225.0</td>\n",
       "      <td>106573.89</td>\n",
       "    </tr>\n",
       "    <tr>\n",
       "      <th>4</th>\n",
       "      <td>ATL</td>\n",
       "      <td>Carleton</td>\n",
       "      <td>65000.0</td>\n",
       "      <td>77400.00</td>\n",
       "    </tr>\n",
       "    <tr>\n",
       "      <th>...</th>\n",
       "      <td>...</td>\n",
       "      <td>...</td>\n",
       "      <td>...</td>\n",
       "      <td>...</td>\n",
       "    </tr>\n",
       "    <tr>\n",
       "      <th>609</th>\n",
       "      <td>VAN</td>\n",
       "      <td>Techera</td>\n",
       "      <td>352000.0</td>\n",
       "      <td>377000.00</td>\n",
       "    </tr>\n",
       "    <tr>\n",
       "      <th>610</th>\n",
       "      <td>VAN</td>\n",
       "      <td>Teibert</td>\n",
       "      <td>126500.0</td>\n",
       "      <td>194000.00</td>\n",
       "    </tr>\n",
       "    <tr>\n",
       "      <th>611</th>\n",
       "      <td>VAN</td>\n",
       "      <td>Tornaghi</td>\n",
       "      <td>80000.0</td>\n",
       "      <td>80000.00</td>\n",
       "    </tr>\n",
       "    <tr>\n",
       "      <th>612</th>\n",
       "      <td>VAN</td>\n",
       "      <td>Waston</td>\n",
       "      <td>350000.0</td>\n",
       "      <td>368125.00</td>\n",
       "    </tr>\n",
       "    <tr>\n",
       "      <th>614</th>\n",
       "      <td>VAN</td>\n",
       "      <td>Williams</td>\n",
       "      <td>175000.0</td>\n",
       "      <td>184000.00</td>\n",
       "    </tr>\n",
       "  </tbody>\n",
       "</table>\n",
       "<p>614 rows × 4 columns</p>\n",
       "</div>"
      ],
      "text/plain": [
       "    club last_name  base_salary  guaranteed_compensation\n",
       "0    ATL   Almiron    1912500.0               2297000.00\n",
       "1    ATL   Ambrose      65625.0                 65625.00\n",
       "2    ATL      Asad     150000.0                150000.00\n",
       "3    ATL     Bloom      99225.0                106573.89\n",
       "4    ATL  Carleton      65000.0                 77400.00\n",
       "..   ...       ...          ...                      ...\n",
       "609  VAN   Techera     352000.0                377000.00\n",
       "610  VAN   Teibert     126500.0                194000.00\n",
       "611  VAN  Tornaghi      80000.0                 80000.00\n",
       "612  VAN    Waston     350000.0                368125.00\n",
       "614  VAN  Williams     175000.0                184000.00\n",
       "\n",
       "[614 rows x 4 columns]"
      ]
     },
     "execution_count": 34,
     "metadata": {},
     "output_type": "execute_result"
    },
    {
     "ename": "",
     "evalue": "",
     "output_type": "error",
     "traceback": [
      "\u001b[1;31mThe Kernel crashed while executing code in the current cell or a previous cell. \n",
      "\u001b[1;31mPlease review the code in the cell(s) to identify a possible cause of the failure. \n",
      "\u001b[1;31mClick <a href='https://aka.ms/vscodeJupyterKernelCrash'>here</a> for more info. \n",
      "\u001b[1;31mView Jupyter <a href='command:jupyter.viewOutput'>log</a> for further details."
     ]
    }
   ],
   "source": [
    "# drop columns that contain any null values \n",
    "# remember (how='any') is the default\n",
    "# first lets remove the empty fucking row\n",
    "salaries.dropna(how='all', inplace=True)\n",
    "#remove the COLUMNS!!!! if they have ANY!!! missing values\n",
    "salaries.dropna(how='any', axis=1)"
   ]
  },
  {
   "cell_type": "markdown",
   "metadata": {},
   "source": [
    "### Reset dataset"
   ]
  },
  {
   "cell_type": "code",
   "execution_count": null,
   "metadata": {},
   "outputs": [],
   "source": []
  },
  {
   "cell_type": "code",
   "execution_count": null,
   "metadata": {},
   "outputs": [],
   "source": [
    "# drop columns with null values in the base_salary column\n"
   ]
  }
 ],
 "metadata": {
  "kernelspec": {
   "display_name": "pandas_cbtn",
   "language": "python",
   "name": "python3"
  },
  "language_info": {
   "codemirror_mode": {
    "name": "ipython",
    "version": 3
   },
   "file_extension": ".py",
   "mimetype": "text/x-python",
   "name": "python",
   "nbconvert_exporter": "python",
   "pygments_lexer": "ipython3",
   "version": "3.12.7"
  }
 },
 "nbformat": 4,
 "nbformat_minor": 4
}
