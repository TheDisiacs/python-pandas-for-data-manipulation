{
 "cells": [
  {
   "cell_type": "markdown",
   "id": "e4a00731",
   "metadata": {},
   "source": [
    "# `.isnull()` and `.notnull()`"
   ]
  },
  {
   "cell_type": "markdown",
   "id": "8d7079ad",
   "metadata": {},
   "source": [
    "### Import pandas"
   ]
  },
  {
   "cell_type": "code",
   "execution_count": 8,
   "id": "8a2cb806",
   "metadata": {},
   "outputs": [],
   "source": [
    "# import pandas\n",
    "import pandas as pd\n",
    "from pathlib import Path"
   ]
  },
  {
   "cell_type": "markdown",
   "id": "65dee130",
   "metadata": {},
   "source": [
    "### Read CSV"
   ]
  },
  {
   "cell_type": "code",
   "execution_count": 9,
   "id": "71709902",
   "metadata": {},
   "outputs": [
    {
     "data": {
      "text/html": [
       "<div>\n",
       "<style scoped>\n",
       "    .dataframe tbody tr th:only-of-type {\n",
       "        vertical-align: middle;\n",
       "    }\n",
       "\n",
       "    .dataframe tbody tr th {\n",
       "        vertical-align: top;\n",
       "    }\n",
       "\n",
       "    .dataframe thead th {\n",
       "        text-align: right;\n",
       "    }\n",
       "</style>\n",
       "<table border=\"1\" class=\"dataframe\">\n",
       "  <thead>\n",
       "    <tr style=\"text-align: right;\">\n",
       "      <th></th>\n",
       "      <th>first_name</th>\n",
       "      <th>last_name</th>\n",
       "      <th>salary</th>\n",
       "      <th>start_date</th>\n",
       "      <th>gender</th>\n",
       "      <th>remote</th>\n",
       "      <th>team</th>\n",
       "    </tr>\n",
       "  </thead>\n",
       "  <tbody>\n",
       "    <tr>\n",
       "      <th>0</th>\n",
       "      <td>Haleigh</td>\n",
       "      <td>Calderhead</td>\n",
       "      <td>334473</td>\n",
       "      <td>5/9/2020</td>\n",
       "      <td>NaN</td>\n",
       "      <td>True</td>\n",
       "      <td>management</td>\n",
       "    </tr>\n",
       "    <tr>\n",
       "      <th>1</th>\n",
       "      <td>Coretta</td>\n",
       "      <td>McEvon</td>\n",
       "      <td>637457</td>\n",
       "      <td>3/20/2020</td>\n",
       "      <td>Male</td>\n",
       "      <td>False</td>\n",
       "      <td>engineering</td>\n",
       "    </tr>\n",
       "    <tr>\n",
       "      <th>2</th>\n",
       "      <td>Clarette</td>\n",
       "      <td>Tarbett</td>\n",
       "      <td>977749</td>\n",
       "      <td>11/22/2020</td>\n",
       "      <td>Agender</td>\n",
       "      <td>True</td>\n",
       "      <td>engineering</td>\n",
       "    </tr>\n",
       "    <tr>\n",
       "      <th>3</th>\n",
       "      <td>Jaime</td>\n",
       "      <td>Gianneschi</td>\n",
       "      <td>253523</td>\n",
       "      <td>9/2/2020</td>\n",
       "      <td>Bigender</td>\n",
       "      <td>False</td>\n",
       "      <td>marketing</td>\n",
       "    </tr>\n",
       "    <tr>\n",
       "      <th>4</th>\n",
       "      <td>Ediva</td>\n",
       "      <td>Skelton</td>\n",
       "      <td>325185</td>\n",
       "      <td>2/4/2020</td>\n",
       "      <td>Female</td>\n",
       "      <td>True</td>\n",
       "      <td>marketing</td>\n",
       "    </tr>\n",
       "    <tr>\n",
       "      <th>...</th>\n",
       "      <td>...</td>\n",
       "      <td>...</td>\n",
       "      <td>...</td>\n",
       "      <td>...</td>\n",
       "      <td>...</td>\n",
       "      <td>...</td>\n",
       "      <td>...</td>\n",
       "    </tr>\n",
       "    <tr>\n",
       "      <th>995</th>\n",
       "      <td>Ysabel</td>\n",
       "      <td>Stollmeyer</td>\n",
       "      <td>649625</td>\n",
       "      <td>10/18/2020</td>\n",
       "      <td>Polygender</td>\n",
       "      <td>False</td>\n",
       "      <td>management</td>\n",
       "    </tr>\n",
       "    <tr>\n",
       "      <th>996</th>\n",
       "      <td>Ashby</td>\n",
       "      <td>Threadgold</td>\n",
       "      <td>140806</td>\n",
       "      <td>12/28/2020</td>\n",
       "      <td>Genderfluid</td>\n",
       "      <td>False</td>\n",
       "      <td>management</td>\n",
       "    </tr>\n",
       "    <tr>\n",
       "      <th>997</th>\n",
       "      <td>Justino</td>\n",
       "      <td>Asquith</td>\n",
       "      <td>950280</td>\n",
       "      <td>10/26/2020</td>\n",
       "      <td>Genderqueer</td>\n",
       "      <td>False</td>\n",
       "      <td>management</td>\n",
       "    </tr>\n",
       "    <tr>\n",
       "      <th>998</th>\n",
       "      <td>Jerald</td>\n",
       "      <td>Penella</td>\n",
       "      <td>862555</td>\n",
       "      <td>9/8/2020</td>\n",
       "      <td>Female</td>\n",
       "      <td>False</td>\n",
       "      <td>engineering</td>\n",
       "    </tr>\n",
       "    <tr>\n",
       "      <th>999</th>\n",
       "      <td>Aubrie</td>\n",
       "      <td>Hunt</td>\n",
       "      <td>549364</td>\n",
       "      <td>3/29/2020</td>\n",
       "      <td>Polygender</td>\n",
       "      <td>False</td>\n",
       "      <td>data analytics</td>\n",
       "    </tr>\n",
       "  </tbody>\n",
       "</table>\n",
       "<p>1000 rows × 7 columns</p>\n",
       "</div>"
      ],
      "text/plain": [
       "    first_name   last_name  salary  start_date       gender  remote  \\\n",
       "0      Haleigh  Calderhead  334473    5/9/2020          NaN    True   \n",
       "1      Coretta      McEvon  637457   3/20/2020         Male   False   \n",
       "2     Clarette     Tarbett  977749  11/22/2020      Agender    True   \n",
       "3        Jaime  Gianneschi  253523    9/2/2020     Bigender   False   \n",
       "4        Ediva     Skelton  325185    2/4/2020       Female    True   \n",
       "..         ...         ...     ...         ...          ...     ...   \n",
       "995     Ysabel  Stollmeyer  649625  10/18/2020   Polygender   False   \n",
       "996      Ashby  Threadgold  140806  12/28/2020  Genderfluid   False   \n",
       "997    Justino     Asquith  950280  10/26/2020  Genderqueer   False   \n",
       "998     Jerald     Penella  862555    9/8/2020       Female   False   \n",
       "999     Aubrie        Hunt  549364   3/29/2020   Polygender   False   \n",
       "\n",
       "               team  \n",
       "0        management  \n",
       "1       engineering  \n",
       "2       engineering  \n",
       "3         marketing  \n",
       "4         marketing  \n",
       "..              ...  \n",
       "995      management  \n",
       "996      management  \n",
       "997      management  \n",
       "998     engineering  \n",
       "999  data analytics  \n",
       "\n",
       "[1000 rows x 7 columns]"
      ]
     },
     "execution_count": 9,
     "metadata": {},
     "output_type": "execute_result"
    }
   ],
   "source": [
    "\n",
    "path = Path('C:/Users/alouden01/Documents/python-pandas-for-data-manipulation/starter_files/skill_07_dataframe_null_values/employee.csv')\n",
    "employees = pd.read_csv(path)\n",
    "employees"
   ]
  },
  {
   "cell_type": "code",
   "execution_count": 10,
   "id": "d18cbc87",
   "metadata": {
    "scrolled": true
   },
   "outputs": [],
   "source": [
    "mask = employees['gender'].isnull()"
   ]
  },
  {
   "cell_type": "markdown",
   "id": "9e3f0347",
   "metadata": {},
   "source": [
    "### `.isnull()`"
   ]
  },
  {
   "cell_type": "code",
   "execution_count": 11,
   "id": "e191326c",
   "metadata": {},
   "outputs": [
    {
     "data": {
      "text/html": [
       "<div>\n",
       "<style scoped>\n",
       "    .dataframe tbody tr th:only-of-type {\n",
       "        vertical-align: middle;\n",
       "    }\n",
       "\n",
       "    .dataframe tbody tr th {\n",
       "        vertical-align: top;\n",
       "    }\n",
       "\n",
       "    .dataframe thead th {\n",
       "        text-align: right;\n",
       "    }\n",
       "</style>\n",
       "<table border=\"1\" class=\"dataframe\">\n",
       "  <thead>\n",
       "    <tr style=\"text-align: right;\">\n",
       "      <th></th>\n",
       "      <th>first_name</th>\n",
       "      <th>last_name</th>\n",
       "      <th>salary</th>\n",
       "      <th>start_date</th>\n",
       "      <th>gender</th>\n",
       "      <th>remote</th>\n",
       "      <th>team</th>\n",
       "    </tr>\n",
       "  </thead>\n",
       "  <tbody>\n",
       "    <tr>\n",
       "      <th>0</th>\n",
       "      <td>Haleigh</td>\n",
       "      <td>Calderhead</td>\n",
       "      <td>334473</td>\n",
       "      <td>5/9/2020</td>\n",
       "      <td>NaN</td>\n",
       "      <td>True</td>\n",
       "      <td>management</td>\n",
       "    </tr>\n",
       "    <tr>\n",
       "      <th>7</th>\n",
       "      <td>Sarah</td>\n",
       "      <td>Feather</td>\n",
       "      <td>553617</td>\n",
       "      <td>4/5/2020</td>\n",
       "      <td>NaN</td>\n",
       "      <td>True</td>\n",
       "      <td>data analytics</td>\n",
       "    </tr>\n",
       "    <tr>\n",
       "      <th>10</th>\n",
       "      <td>Gray</td>\n",
       "      <td>Ghirigori</td>\n",
       "      <td>972661</td>\n",
       "      <td>5/29/2020</td>\n",
       "      <td>NaN</td>\n",
       "      <td>False</td>\n",
       "      <td>marketing</td>\n",
       "    </tr>\n",
       "    <tr>\n",
       "      <th>11</th>\n",
       "      <td>Malissa</td>\n",
       "      <td>Billett</td>\n",
       "      <td>492837</td>\n",
       "      <td>9/1/2020</td>\n",
       "      <td>NaN</td>\n",
       "      <td>False</td>\n",
       "      <td>management</td>\n",
       "    </tr>\n",
       "    <tr>\n",
       "      <th>68</th>\n",
       "      <td>Ursuline</td>\n",
       "      <td>Surfleet</td>\n",
       "      <td>631021</td>\n",
       "      <td>8/11/2020</td>\n",
       "      <td>NaN</td>\n",
       "      <td>True</td>\n",
       "      <td>data analytics</td>\n",
       "    </tr>\n",
       "  </tbody>\n",
       "</table>\n",
       "</div>"
      ],
      "text/plain": [
       "   first_name   last_name  salary start_date gender  remote            team\n",
       "0     Haleigh  Calderhead  334473   5/9/2020    NaN    True      management\n",
       "7       Sarah     Feather  553617   4/5/2020    NaN    True  data analytics\n",
       "10       Gray   Ghirigori  972661  5/29/2020    NaN   False       marketing\n",
       "11    Malissa     Billett  492837   9/1/2020    NaN   False      management\n",
       "68   Ursuline    Surfleet  631021  8/11/2020    NaN    True  data analytics"
      ]
     },
     "execution_count": 11,
     "metadata": {},
     "output_type": "execute_result"
    }
   ],
   "source": [
    "employees[mask].head()"
   ]
  },
  {
   "cell_type": "code",
   "execution_count": null,
   "id": "88e7d3f4",
   "metadata": {},
   "outputs": [],
   "source": []
  },
  {
   "cell_type": "code",
   "execution_count": 12,
   "id": "7444d111",
   "metadata": {},
   "outputs": [],
   "source": [
    "# return all of the rows containing null values in the gender column\n"
   ]
  },
  {
   "cell_type": "code",
   "execution_count": null,
   "id": "78c6cbff",
   "metadata": {},
   "outputs": [],
   "source": []
  },
  {
   "cell_type": "markdown",
   "id": "bc2ab82a",
   "metadata": {},
   "source": [
    "### `.notnull()`"
   ]
  },
  {
   "cell_type": "code",
   "execution_count": null,
   "id": "46039c89",
   "metadata": {},
   "outputs": [],
   "source": []
  },
  {
   "cell_type": "code",
   "execution_count": 13,
   "id": "0cf02c01",
   "metadata": {},
   "outputs": [],
   "source": [
    "# return all of the rows without null values in the gender column\n"
   ]
  },
  {
   "cell_type": "code",
   "execution_count": 14,
   "id": "5b271d6a",
   "metadata": {},
   "outputs": [],
   "source": [
    "# return all of the rows without null values\n"
   ]
  }
 ],
 "metadata": {
  "kernelspec": {
   "display_name": "pandas_cbtn",
   "language": "python",
   "name": "python3"
  },
  "language_info": {
   "codemirror_mode": {
    "name": "ipython",
    "version": 3
   },
   "file_extension": ".py",
   "mimetype": "text/x-python",
   "name": "python",
   "nbconvert_exporter": "python",
   "pygments_lexer": "ipython3",
   "version": "3.12.7"
  }
 },
 "nbformat": 4,
 "nbformat_minor": 5
}
