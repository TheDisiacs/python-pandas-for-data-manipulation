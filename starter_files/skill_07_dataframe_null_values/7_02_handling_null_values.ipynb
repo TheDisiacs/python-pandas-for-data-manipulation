{
 "cells": [
  {
   "cell_type": "markdown",
   "id": "afe45642",
   "metadata": {},
   "source": [
    "# Handling Missing Values\n",
    "\n",
    "1. Missing Completely at Random (MCAR)\n",
    "Data is missing across all observations regardless of expected values. Validate by performing a t-test between one with missing values and the other without; if there is no significant difference, it is MCAR.\n",
    "2. Missing at Random (MAR)\n",
    "Data is missing across all observations but only within sub-samples of data.\n",
    "3. Missing not at Random (MNAR)\n",
    "Here, the missing data has a structure to it\n",
    "\n",
    "### Delete, Recode, or Inpute? That's the question!\n",
    "1. Deleting missing values or columns with missing values\n",
    "2. Recode missing data (new boolean column not_paid 0/1 (NMAR)) \n",
    "3. Imputing missing values\n",
    "\n",
    "### Action Steps\n",
    "Research and talk to stakeholders, then select one of the following:\n",
    "\n",
    "1. Remove missing data\n",
    "2. Recode missing data\n",
    "3. Inpute missing data"
   ]
  }
 ],
 "metadata": {
  "kernelspec": {
   "display_name": "Python 3 (ipykernel)",
   "language": "python",
   "name": "python3"
  },
  "language_info": {
   "codemirror_mode": {
    "name": "ipython",
    "version": 3
   },
   "file_extension": ".py",
   "mimetype": "text/x-python",
   "name": "python",
   "nbconvert_exporter": "python",
   "pygments_lexer": "ipython3",
   "version": "3.9.7"
  }
 },
 "nbformat": 4,
 "nbformat_minor": 5
}
