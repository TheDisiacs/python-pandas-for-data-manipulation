{
 "cells": [
  {
   "cell_type": "markdown",
   "id": "42613ee2",
   "metadata": {},
   "source": [
    "# The `.dt` accessor\n",
    "Much like the `.str` prefix, `.dt` works in similarly to return attribute from Datetime."
   ]
  },
  {
   "cell_type": "code",
   "execution_count": 1,
   "id": "73d64a15",
   "metadata": {},
   "outputs": [],
   "source": [
    "import pandas as pd\n"
   ]
  },
  {
   "cell_type": "markdown",
   "id": "34a544ff",
   "metadata": {},
   "source": [
    "### Create a date range to access some attributes: `dates`"
   ]
  },
  {
   "cell_type": "code",
   "execution_count": 2,
   "id": "31e01470",
   "metadata": {},
   "outputs": [],
   "source": [
    "dates = pd.date_range('Jan 1st 2020', 'Dec 31st 2020')"
   ]
  },
  {
   "cell_type": "markdown",
   "id": "bda6a708",
   "metadata": {},
   "source": [
    "### Create a Series "
   ]
  },
  {
   "cell_type": "code",
   "execution_count": 3,
   "id": "553ce023",
   "metadata": {},
   "outputs": [],
   "source": [
    "date_series = pd.Series(dates)"
   ]
  },
  {
   "cell_type": "code",
   "execution_count": 7,
   "id": "e4d56036",
   "metadata": {},
   "outputs": [
    {
     "data": {
      "text/plain": [
       "0     2020-01-01\n",
       "1     2020-01-02\n",
       "2     2020-01-03\n",
       "3     2020-01-04\n",
       "4     2020-01-05\n",
       "         ...    \n",
       "361   2020-12-27\n",
       "362   2020-12-28\n",
       "363   2020-12-29\n",
       "364   2020-12-30\n",
       "365   2020-12-31\n",
       "Length: 366, dtype: datetime64[ns]"
      ]
     },
     "execution_count": 7,
     "metadata": {},
     "output_type": "execute_result"
    }
   ],
   "source": [
    "date_series"
   ]
  },
  {
   "cell_type": "code",
   "execution_count": 6,
   "id": "1eb7c3c5",
   "metadata": {},
   "outputs": [
    {
     "data": {
      "text/plain": [
       "0      Wednesday\n",
       "1       Thursday\n",
       "2         Friday\n",
       "3       Saturday\n",
       "4         Sunday\n",
       "         ...    \n",
       "361       Sunday\n",
       "362       Monday\n",
       "363      Tuesday\n",
       "364    Wednesday\n",
       "365     Thursday\n",
       "Length: 366, dtype: object"
      ]
     },
     "execution_count": 6,
     "metadata": {},
     "output_type": "execute_result"
    }
   ],
   "source": [
    "# check out the attribute available with TAB\n",
    "date_series.dt.day_name()\n"
   ]
  },
  {
   "cell_type": "code",
   "execution_count": 13,
   "id": "5beacf68",
   "metadata": {},
   "outputs": [
    {
     "data": {
      "text/plain": [
       "0       1\n",
       "1       2\n",
       "2       3\n",
       "3       4\n",
       "4       5\n",
       "       ..\n",
       "361    27\n",
       "362    28\n",
       "363    29\n",
       "364    30\n",
       "365    31\n",
       "Length: 366, dtype: int32"
      ]
     },
     "execution_count": 13,
     "metadata": {},
     "output_type": "execute_result"
    }
   ],
   "source": [
    "# date_series.day\n",
    "date_series.dt.day\n"
   ]
  },
  {
   "cell_type": "code",
   "execution_count": 18,
   "id": "31e11a4a",
   "metadata": {},
   "outputs": [
    {
     "data": {
      "text/plain": [
       "0      31\n",
       "15     31\n",
       "30     31\n",
       "45     29\n",
       "60     31\n",
       "75     31\n",
       "90     31\n",
       "105    30\n",
       "120    30\n",
       "135    31\n",
       "150    31\n",
       "165    30\n",
       "180    30\n",
       "195    31\n",
       "210    31\n",
       "225    31\n",
       "240    31\n",
       "255    30\n",
       "270    30\n",
       "285    31\n",
       "300    31\n",
       "315    30\n",
       "330    30\n",
       "345    31\n",
       "360    31\n",
       "dtype: int32"
      ]
     },
     "execution_count": 18,
     "metadata": {},
     "output_type": "execute_result"
    }
   ],
   "source": [
    "date_series.dt.days_in_month[::15]\n"
   ]
  },
  {
   "cell_type": "code",
   "execution_count": 19,
   "id": "1b7fe8a8",
   "metadata": {},
   "outputs": [],
   "source": [
    "# make a mask of quarter starts\n",
    "mask = date_series.dt.is_quarter_start"
   ]
  },
  {
   "cell_type": "code",
   "execution_count": 20,
   "id": "513639ad",
   "metadata": {},
   "outputs": [
    {
     "data": {
      "text/plain": [
       "0     2020-01-01\n",
       "91    2020-04-01\n",
       "182   2020-07-01\n",
       "274   2020-10-01\n",
       "dtype: datetime64[ns]"
      ]
     },
     "execution_count": 20,
     "metadata": {},
     "output_type": "execute_result"
    }
   ],
   "source": [
    "date_series[mask]"
   ]
  },
  {
   "cell_type": "code",
   "execution_count": 22,
   "id": "51480a34",
   "metadata": {},
   "outputs": [
    {
     "name": "stdout",
     "output_type": "stream",
     "text": [
      "0      31\n",
      "31     29\n",
      "60     31\n",
      "91     30\n",
      "121    31\n",
      "152    30\n",
      "182    31\n",
      "213    31\n",
      "244    30\n",
      "274    31\n",
      "305    30\n",
      "335    31\n",
      "dtype: int32 0        January\n",
      "31      February\n",
      "60         March\n",
      "91         April\n",
      "121          May\n",
      "152         June\n",
      "182         July\n",
      "213       August\n",
      "244    September\n",
      "274      October\n",
      "305     November\n",
      "335     December\n",
      "dtype: object\n"
     ]
    }
   ],
   "source": [
    "mask = date_series.dt.is_month_start\n",
    "print(f'{date_series[mask].dt.days_in_month} {date_series[mask].dt.month_name()}')"
   ]
  },
  {
   "cell_type": "code",
   "execution_count": 24,
   "id": "600bca9b",
   "metadata": {},
   "outputs": [
    {
     "data": {
      "text/plain": [
       "0       1\n",
       "1       1\n",
       "2       1\n",
       "3       1\n",
       "4       1\n",
       "       ..\n",
       "361    52\n",
       "362    53\n",
       "363    53\n",
       "364    53\n",
       "365    53\n",
       "Name: week, Length: 366, dtype: UInt32"
      ]
     },
     "execution_count": 24,
     "metadata": {},
     "output_type": "execute_result"
    }
   ],
   "source": [
    "date_series.dt.isocalendar().week"
   ]
  },
  {
   "cell_type": "code",
   "execution_count": null,
   "id": "e8434a77",
   "metadata": {},
   "outputs": [],
   "source": []
  }
 ],
 "metadata": {
  "kernelspec": {
   "display_name": "pandas_cbtn",
   "language": "python",
   "name": "python3"
  },
  "language_info": {
   "codemirror_mode": {
    "name": "ipython",
    "version": 3
   },
   "file_extension": ".py",
   "mimetype": "text/x-python",
   "name": "python",
   "nbconvert_exporter": "python",
   "pygments_lexer": "ipython3",
   "version": "3.12.7"
  }
 },
 "nbformat": 4,
 "nbformat_minor": 5
}
