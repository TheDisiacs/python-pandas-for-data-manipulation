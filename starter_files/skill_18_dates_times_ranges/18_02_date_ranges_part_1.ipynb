{
 "cells": [
  {
   "cell_type": "markdown",
   "id": "ac8a7476",
   "metadata": {},
   "source": [
    "# `.date_range( )` part 1"
   ]
  },
  {
   "cell_type": "code",
   "execution_count": 1,
   "id": "11a96f9c",
   "metadata": {},
   "outputs": [],
   "source": [
    "import pandas as pd"
   ]
  },
  {
   "cell_type": "markdown",
   "id": "f34bee52",
   "metadata": {},
   "source": [
    "### `.date_range( )` is like a date ruler\n",
    "You can set a start, stop, and interval frequency to create a range of times or dates. It's most often used when reindexing your DatetimeIndex. Imagine you have a year worth of data collected every weekday in 2020. You could replace the numbered index with a date index which allows you to perform all kinds of date operations like visualization over time to finding the peak activity range of the year.\n",
    "\n",
    "```python\n",
    "pandas.date_range(start=your_start_range,\n",
    "                  end=your_end_range,\n",
    "                 freq=your_time_intervals)\n",
    "```                 "
   ]
  },
  {
   "cell_type": "code",
   "execution_count": 33,
   "id": "63d3e13e",
   "metadata": {},
   "outputs": [
    {
     "data": {
      "text/plain": [
       "DatetimeIndex(['2024-01-06', '2024-01-20', '2024-02-03', '2024-02-17',\n",
       "               '2024-03-02', '2024-03-16', '2024-03-30', '2024-04-13',\n",
       "               '2024-04-27', '2024-05-11', '2024-05-25', '2024-06-08',\n",
       "               '2024-06-22', '2024-07-06', '2024-07-20', '2024-08-03',\n",
       "               '2024-08-17', '2024-08-31', '2024-09-14', '2024-09-28',\n",
       "               '2024-10-12', '2024-10-26', '2024-11-09', '2024-11-23',\n",
       "               '2024-12-07', '2024-12-21'],\n",
       "              dtype='datetime64[ns]', freq='2W-SAT')"
      ]
     },
     "execution_count": 33,
     "metadata": {},
     "output_type": "execute_result"
    }
   ],
   "source": [
    "# .datet_range() creates a DatetimeIndex/Timestamp for us\n",
    "dates = pd.date_range(start = 'Jan 1st 2024', end='Dec 31st 2024', freq='2W-SAT') \n",
    "dates\n"
   ]
  },
  {
   "cell_type": "code",
   "execution_count": 35,
   "id": "add5c87b",
   "metadata": {},
   "outputs": [
    {
     "data": {
      "text/plain": [
       "26"
      ]
     },
     "execution_count": 35,
     "metadata": {},
     "output_type": "execute_result"
    }
   ],
   "source": [
    "len(dates)"
   ]
  },
  {
   "cell_type": "code",
   "execution_count": 37,
   "id": "b300571b",
   "metadata": {},
   "outputs": [
    {
     "data": {
      "text/plain": [
       "DatetimeIndex(['1981-04-24', '1981-05-01', '1981-05-08', '1981-05-15',\n",
       "               '1981-05-22', '1981-05-29', '1981-06-05', '1981-06-12',\n",
       "               '1981-06-19', '1981-06-26',\n",
       "               ...\n",
       "               '2024-10-25', '2024-11-01', '2024-11-08', '2024-11-15',\n",
       "               '2024-11-22', '2024-11-29', '2024-12-06', '2024-12-13',\n",
       "               '2024-12-20', '2024-12-27'],\n",
       "              dtype='datetime64[ns]', length=2280, freq='W-FRI')"
      ]
     },
     "execution_count": 37,
     "metadata": {},
     "output_type": "execute_result"
    }
   ],
   "source": [
    "pd.date_range('April 22 1981', 'today', freq='W-fri')"
   ]
  },
  {
   "cell_type": "markdown",
   "id": "a0819645",
   "metadata": {},
   "source": [
    "### Frequency options: dates"
   ]
  },
  {
   "cell_type": "code",
   "execution_count": 39,
   "id": "e4b921c3",
   "metadata": {},
   "outputs": [
    {
     "data": {
      "text/plain": [
       "'Wednesday'"
      ]
     },
     "execution_count": 39,
     "metadata": {},
     "output_type": "execute_result"
    }
   ],
   "source": [
    "pd.Timestamp('april 22 1981').day_name()"
   ]
  },
  {
   "cell_type": "markdown",
   "id": "2224cf06",
   "metadata": {},
   "source": [
    "### Frequency options: dates with times"
   ]
  },
  {
   "cell_type": "code",
   "execution_count": 42,
   "id": "c4344df3",
   "metadata": {},
   "outputs": [
    {
     "data": {
      "text/plain": [
       "'Tuesday'"
      ]
     },
     "execution_count": 42,
     "metadata": {},
     "output_type": "execute_result"
    }
   ],
   "source": [
    "pd.Timestamp('today').day_name()"
   ]
  },
  {
   "cell_type": "code",
   "execution_count": 65,
   "id": "75c8362d",
   "metadata": {},
   "outputs": [
    {
     "ename": "ValueError",
     "evalue": "time data must match '%H:%M' format",
     "output_type": "error",
     "traceback": [
      "\u001b[1;31m---------------------------------------------------------------------------\u001b[0m",
      "\u001b[1;31mValueError\u001b[0m                                Traceback (most recent call last)",
      "File \u001b[1;32moffsets.pyx:259\u001b[0m, in \u001b[0;36mpandas._libs.tslibs.offsets._validate_business_time\u001b[1;34m()\u001b[0m\n",
      "File \u001b[1;32mc:\\Users\\alouden01\\AppData\\Local\\anaconda3\\envs\\pandas_cbtn\\Lib\\_strptime.py:548\u001b[0m, in \u001b[0;36m_strptime_time\u001b[1;34m(data_string, format)\u001b[0m\n\u001b[0;32m    546\u001b[0m \u001b[38;5;250m\u001b[39m\u001b[38;5;124;03m\"\"\"Return a time struct based on the input string and the\u001b[39;00m\n\u001b[0;32m    547\u001b[0m \u001b[38;5;124;03mformat string.\"\"\"\u001b[39;00m\n\u001b[1;32m--> 548\u001b[0m tt \u001b[38;5;241m=\u001b[39m _strptime(data_string, \u001b[38;5;28mformat\u001b[39m)[\u001b[38;5;241m0\u001b[39m]\n\u001b[0;32m    549\u001b[0m \u001b[38;5;28;01mreturn\u001b[39;00m time\u001b[38;5;241m.\u001b[39mstruct_time(tt[:time\u001b[38;5;241m.\u001b[39m_STRUCT_TM_ITEMS])\n",
      "File \u001b[1;32mc:\\Users\\alouden01\\AppData\\Local\\anaconda3\\envs\\pandas_cbtn\\Lib\\_strptime.py:333\u001b[0m, in \u001b[0;36m_strptime\u001b[1;34m(data_string, format)\u001b[0m\n\u001b[0;32m    332\u001b[0m \u001b[38;5;28;01mif\u001b[39;00m \u001b[38;5;129;01mnot\u001b[39;00m found:\n\u001b[1;32m--> 333\u001b[0m     \u001b[38;5;28;01mraise\u001b[39;00m \u001b[38;5;167;01mValueError\u001b[39;00m(\u001b[38;5;124m\"\u001b[39m\u001b[38;5;124mtime data \u001b[39m\u001b[38;5;132;01m%r\u001b[39;00m\u001b[38;5;124m does not match format \u001b[39m\u001b[38;5;132;01m%r\u001b[39;00m\u001b[38;5;124m\"\u001b[39m \u001b[38;5;241m%\u001b[39m\n\u001b[0;32m    334\u001b[0m                      (data_string, \u001b[38;5;28mformat\u001b[39m))\n\u001b[0;32m    335\u001b[0m \u001b[38;5;28;01mif\u001b[39;00m \u001b[38;5;28mlen\u001b[39m(data_string) \u001b[38;5;241m!=\u001b[39m found\u001b[38;5;241m.\u001b[39mend():\n",
      "\u001b[1;31mValueError\u001b[0m: time data '8' does not match format '%H:%M'",
      "\nDuring handling of the above exception, another exception occurred:\n",
      "\u001b[1;31mValueError\u001b[0m                                Traceback (most recent call last)",
      "Cell \u001b[1;32mIn[65], line 2\u001b[0m\n\u001b[0;32m      1\u001b[0m ts \u001b[38;5;241m=\u001b[39m pd\u001b[38;5;241m.\u001b[39mdate_range(\u001b[38;5;124m'\u001b[39m\u001b[38;5;124mJan 1 24\u001b[39m\u001b[38;5;124m'\u001b[39m,\u001b[38;5;124m'\u001b[39m\u001b[38;5;124mJan 2 24\u001b[39m\u001b[38;5;124m'\u001b[39m,freq\u001b[38;5;241m=\u001b[39m\u001b[38;5;124m'\u001b[39m\u001b[38;5;124mcbh\u001b[39m\u001b[38;5;124m'\u001b[39m)\n\u001b[1;32m----> 2\u001b[0m ts \u001b[38;5;241m+\u001b[39m pd\u001b[38;5;241m.\u001b[39moffsets\u001b[38;5;241m.\u001b[39mCustomBusinessHour(start\u001b[38;5;241m=\u001b[39m\u001b[38;5;124m'\u001b[39m\u001b[38;5;124m8\u001b[39m\u001b[38;5;124m'\u001b[39m,end\u001b[38;5;241m=\u001b[39m\u001b[38;5;124m'\u001b[39m\u001b[38;5;124m16\u001b[39m\u001b[38;5;124m'\u001b[39m)\n\u001b[0;32m      3\u001b[0m ts\n",
      "File \u001b[1;32moffsets.pyx:4456\u001b[0m, in \u001b[0;36mpandas._libs.tslibs.offsets.CustomBusinessHour.__init__\u001b[1;34m()\u001b[0m\n",
      "File \u001b[1;32moffsets.pyx:2032\u001b[0m, in \u001b[0;36mpandas._libs.tslibs.offsets.BusinessHour.__init__\u001b[1;34m()\u001b[0m\n",
      "File \u001b[1;32moffsets.pyx:262\u001b[0m, in \u001b[0;36mpandas._libs.tslibs.offsets._validate_business_time\u001b[1;34m()\u001b[0m\n",
      "\u001b[1;31mValueError\u001b[0m: time data must match '%H:%M' format"
     ]
    }
   ],
   "source": [
    "# don't know how do do this. \n",
    "ts = pd.date_range('Jan 1 24','Jan 2 24',freq='cbh')\n",
    "ts + pd.offsets.CustomBusinessHour(start='8',end='16')\n",
    "ts"
   ]
  },
  {
   "cell_type": "code",
   "execution_count": null,
   "id": "0344b995",
   "metadata": {},
   "outputs": [],
   "source": [
    "ts."
   ]
  },
  {
   "cell_type": "code",
   "execution_count": null,
   "id": "87480fd5",
   "metadata": {},
   "outputs": [],
   "source": []
  },
  {
   "cell_type": "code",
   "execution_count": null,
   "id": "416c4d6c",
   "metadata": {},
   "outputs": [],
   "source": []
  }
 ],
 "metadata": {
  "kernelspec": {
   "display_name": "pandas_cbtn",
   "language": "python",
   "name": "python3"
  },
  "language_info": {
   "codemirror_mode": {
    "name": "ipython",
    "version": 3
   },
   "file_extension": ".py",
   "mimetype": "text/x-python",
   "name": "python",
   "nbconvert_exporter": "python",
   "pygments_lexer": "ipython3",
   "version": "3.12.7"
  }
 },
 "nbformat": 4,
 "nbformat_minor": 5
}
