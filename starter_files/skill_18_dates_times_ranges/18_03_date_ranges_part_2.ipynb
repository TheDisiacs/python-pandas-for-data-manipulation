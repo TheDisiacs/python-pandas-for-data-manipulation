{
 "cells": [
  {
   "cell_type": "markdown",
   "id": "adba5214",
   "metadata": {},
   "source": [
    "# `.date_range( )` part 2"
   ]
  },
  {
   "cell_type": "code",
   "execution_count": 1,
   "id": "8b126e47",
   "metadata": {},
   "outputs": [],
   "source": [
    "import pandas as pd"
   ]
  },
  {
   "cell_type": "markdown",
   "id": "f09cf28e",
   "metadata": {},
   "source": [
    "### `.date_range( )` is like a date ruler\n",
    "You can set a start, stop, and interval frequency to create a range of times or dates. You can also omit the `end=` parameter and instead use `periods=` to set the number of results you want to return.\n",
    "\n",
    "```python\n",
    "pandas.date_range(start=your_start_time,\n",
    "                  periods=how_many_results,\n",
    "                 freq=your_time_intervals)\n",
    "```                 "
   ]
  },
  {
   "cell_type": "code",
   "execution_count": 2,
   "id": "95da02f3",
   "metadata": {},
   "outputs": [
    {
     "name": "stdout",
     "output_type": "stream",
     "text": [
      "   December 2024\n",
      "Mo Tu We Th Fr Sa Su\n",
      "                   1\n",
      " 2  3  4  5  6  7  8\n",
      " 9 10 11 12 13 14 15\n",
      "16 17 18 19 20 21 22\n",
      "23 24 25 26 27 28 29\n",
      "30 31\n",
      "\n"
     ]
    }
   ],
   "source": [
    "import calendar\n",
    "print(calendar.month(2024, 12))"
   ]
  },
  {
   "cell_type": "markdown",
   "id": "693b3ecf",
   "metadata": {},
   "source": [
    "### Create a 7 day week"
   ]
  },
  {
   "cell_type": "code",
   "execution_count": 9,
   "id": "8ab39bd3",
   "metadata": {},
   "outputs": [
    {
     "data": {
      "text/plain": [
       "DatetimeIndex(['2024-12-02', '2024-12-03', '2024-12-04', '2024-12-05',\n",
       "               '2024-12-06', '2024-12-09', '2024-12-10'],\n",
       "              dtype='datetime64[ns]', freq='B')"
      ]
     },
     "execution_count": 9,
     "metadata": {},
     "output_type": "execute_result"
    }
   ],
   "source": [
    "# B = Business day\n",
    "pd.date_range('Dec 1 2024' , periods= 7, freq='B')"
   ]
  },
  {
   "cell_type": "code",
   "execution_count": null,
   "id": "adacd482",
   "metadata": {},
   "outputs": [],
   "source": []
  },
  {
   "cell_type": "code",
   "execution_count": null,
   "id": "a87ffe84",
   "metadata": {},
   "outputs": [],
   "source": []
  },
  {
   "cell_type": "code",
   "execution_count": 10,
   "id": "900d718b",
   "metadata": {},
   "outputs": [
    {
     "data": {
      "text/plain": [
       "DatetimeIndex(['2020-01-01', '2020-01-02', '2020-01-03', '2020-01-04',\n",
       "               '2020-01-05', '2020-01-06', '2020-01-07'],\n",
       "              dtype='datetime64[ns]', freq='D')"
      ]
     },
     "execution_count": 10,
     "metadata": {},
     "output_type": "execute_result"
    }
   ],
   "source": [
    "# start on January 1st, 2020 and create 7(periods) days(freq)\n",
    "pd.date_range('jan 1 2020', periods=7)"
   ]
  },
  {
   "cell_type": "code",
   "execution_count": 13,
   "id": "20909ae7",
   "metadata": {},
   "outputs": [
    {
     "name": "stdout",
     "output_type": "stream",
     "text": [
      "     January 24\n",
      "Mo Tu We Th Fr Sa Su\n",
      " 1  2  3  4  5  6  7\n",
      " 8  9 10 11 12 13 14\n",
      "15 16 17 18 19 20 21\n",
      "22 23 24 25 26 27 28\n",
      "29 30 31\n",
      "\n"
     ]
    }
   ],
   "source": [
    "print(calendar.month(24,1))"
   ]
  },
  {
   "cell_type": "markdown",
   "id": "62a85ffb",
   "metadata": {},
   "source": [
    "### Create a 5 day business week"
   ]
  },
  {
   "cell_type": "code",
   "execution_count": 14,
   "id": "fe8e22e3",
   "metadata": {},
   "outputs": [
    {
     "data": {
      "text/plain": [
       "DatetimeIndex(['2024-01-01', '2024-01-02', '2024-01-03', '2024-01-04',\n",
       "               '2024-01-05', '2024-01-08', '2024-01-09', '2024-01-10',\n",
       "               '2024-01-11'],\n",
       "              dtype='datetime64[ns]', freq='B')"
      ]
     },
     "execution_count": 14,
     "metadata": {},
     "output_type": "execute_result"
    }
   ],
   "source": [
    "pd.date_range('jan 1 2024',periods=9,freq='B')"
   ]
  },
  {
   "cell_type": "code",
   "execution_count": null,
   "id": "eedd0b31",
   "metadata": {},
   "outputs": [],
   "source": [
    "# pd.date_range(start = \"2020-01-01\", periods = 5, freq = \"D\")\n",
    "# mind the business day start day (can't start on a weekend)⚠️\n"
   ]
  },
  {
   "cell_type": "code",
   "execution_count": null,
   "id": "f6849b22",
   "metadata": {},
   "outputs": [],
   "source": [
    "# Can't start on Saturday the 4th so starts on Monday the 6th\n"
   ]
  },
  {
   "cell_type": "markdown",
   "id": "b17359b7",
   "metadata": {},
   "source": [
    "### You can also use M, MS, A, H, 8H"
   ]
  },
  {
   "cell_type": "code",
   "execution_count": 15,
   "id": "4d981192",
   "metadata": {},
   "outputs": [
    {
     "name": "stdout",
     "output_type": "stream",
     "text": [
      "     January 24\n",
      "Mo Tu We Th Fr Sa Su\n",
      " 1  2  3  4  5  6  7\n",
      " 8  9 10 11 12 13 14\n",
      "15 16 17 18 19 20 21\n",
      "22 23 24 25 26 27 28\n",
      "29 30 31\n",
      "\n"
     ]
    }
   ],
   "source": [
    "print(calendar.month(24,1))"
   ]
  },
  {
   "cell_type": "code",
   "execution_count": 21,
   "id": "fc7fc1ac",
   "metadata": {},
   "outputs": [
    {
     "data": {
      "text/plain": [
       "DatetimeIndex([       '2024-01-01 00:00:00', '2024-01-01 00:00:00.001000',\n",
       "               '2024-01-01 00:00:00.002000', '2024-01-01 00:00:00.003000',\n",
       "               '2024-01-01 00:00:00.004000', '2024-01-01 00:00:00.005000',\n",
       "               '2024-01-01 00:00:00.006000'],\n",
       "              dtype='datetime64[ns]', freq='ms')"
      ]
     },
     "execution_count": 21,
     "metadata": {},
     "output_type": "execute_result"
    }
   ],
   "source": [
    "# Months\n",
    "pd.date_range('jan 1st 2024', periods=7, freq='ms')"
   ]
  },
  {
   "cell_type": "markdown",
   "id": "1f2def62",
   "metadata": {},
   "source": [
    "# Month start\n"
   ]
  },
  {
   "cell_type": "code",
   "execution_count": 24,
   "id": "b453d403",
   "metadata": {},
   "outputs": [
    {
     "name": "stderr",
     "output_type": "stream",
     "text": [
      "C:\\Users\\alouden01\\AppData\\Local\\Temp\\ipykernel_21732\\3156790709.py:2: FutureWarning: 'Y' is deprecated and will be removed in a future version, please use 'YE' instead.\n",
      "  pd.date_range('april 22 1981', periods=44, freq='Y')\n"
     ]
    },
    {
     "data": {
      "text/plain": [
       "DatetimeIndex(['1981-12-31', '1982-12-31', '1983-12-31', '1984-12-31',\n",
       "               '1985-12-31', '1986-12-31', '1987-12-31', '1988-12-31',\n",
       "               '1989-12-31', '1990-12-31', '1991-12-31', '1992-12-31',\n",
       "               '1993-12-31', '1994-12-31', '1995-12-31', '1996-12-31',\n",
       "               '1997-12-31', '1998-12-31', '1999-12-31', '2000-12-31',\n",
       "               '2001-12-31', '2002-12-31', '2003-12-31', '2004-12-31',\n",
       "               '2005-12-31', '2006-12-31', '2007-12-31', '2008-12-31',\n",
       "               '2009-12-31', '2010-12-31', '2011-12-31', '2012-12-31',\n",
       "               '2013-12-31', '2014-12-31', '2015-12-31', '2016-12-31',\n",
       "               '2017-12-31', '2018-12-31', '2019-12-31', '2020-12-31',\n",
       "               '2021-12-31', '2022-12-31', '2023-12-31', '2024-12-31'],\n",
       "              dtype='datetime64[ns]', freq='YE-DEC')"
      ]
     },
     "execution_count": 24,
     "metadata": {},
     "output_type": "execute_result"
    }
   ],
   "source": [
    "# Years\n",
    "pd.date_range('april 22 1981', periods=44, freq='Y')"
   ]
  },
  {
   "cell_type": "code",
   "execution_count": 33,
   "id": "0e40dc8e",
   "metadata": {},
   "outputs": [
    {
     "name": "stderr",
     "output_type": "stream",
     "text": [
      "C:\\Users\\alouden01\\AppData\\Local\\Temp\\ipykernel_21732\\4286931072.py:2: FutureWarning: 'BH' is deprecated and will be removed in a future version, please use 'bh' instead.\n",
      "  pd.date_range('april 22 1981 12:23:00', 'today', freq='BH')\n"
     ]
    },
    {
     "data": {
      "text/plain": [
       "DatetimeIndex(['1981-04-22 12:23:00', '1981-04-22 13:23:00',\n",
       "               '1981-04-22 14:23:00', '1981-04-22 15:23:00',\n",
       "               '1981-04-22 16:23:00', '1981-04-23 09:23:00',\n",
       "               '1981-04-23 10:23:00', '1981-04-23 11:23:00',\n",
       "               '1981-04-23 12:23:00', '1981-04-23 13:23:00',\n",
       "               ...\n",
       "               '2024-12-31 15:23:00', '2024-12-31 16:23:00',\n",
       "               '2025-01-01 09:23:00', '2025-01-01 10:23:00',\n",
       "               '2025-01-01 11:23:00', '2025-01-01 12:23:00',\n",
       "               '2025-01-01 13:23:00', '2025-01-01 14:23:00',\n",
       "               '2025-01-01 15:23:00', '2025-01-01 16:23:00'],\n",
       "              dtype='datetime64[ns]', length=91205, freq='bh')"
      ]
     },
     "execution_count": 33,
     "metadata": {},
     "output_type": "execute_result"
    }
   ],
   "source": [
    "# Hours\n",
    "pd.date_range('april 22 1981 12:23:00', 'today', freq='BH')"
   ]
  },
  {
   "cell_type": "code",
   "execution_count": 36,
   "id": "ad6df44d",
   "metadata": {},
   "outputs": [
    {
     "data": {
      "text/plain": [
       "DatetimeIndex(['2025-01-01 00:00:00', '2025-01-01 00:01:00',\n",
       "               '2025-01-01 00:02:00', '2025-01-01 00:03:00',\n",
       "               '2025-01-01 00:04:00', '2025-01-01 00:05:00',\n",
       "               '2025-01-01 00:06:00', '2025-01-01 00:07:00',\n",
       "               '2025-01-01 00:08:00', '2025-01-01 00:09:00',\n",
       "               ...\n",
       "               '2025-01-01 23:51:00', '2025-01-01 23:52:00',\n",
       "               '2025-01-01 23:53:00', '2025-01-01 23:54:00',\n",
       "               '2025-01-01 23:55:00', '2025-01-01 23:56:00',\n",
       "               '2025-01-01 23:57:00', '2025-01-01 23:58:00',\n",
       "               '2025-01-01 23:59:00', '2025-01-02 00:00:00'],\n",
       "              dtype='datetime64[ns]', length=1441, freq='min')"
      ]
     },
     "execution_count": 36,
     "metadata": {},
     "output_type": "execute_result"
    }
   ],
   "source": [
    "pd.date_range(start = 'jan 1 2025', end = 'jan 2 2025', freq= 'min')"
   ]
  },
  {
   "cell_type": "code",
   "execution_count": 39,
   "id": "2a596b7b",
   "metadata": {},
   "outputs": [
    {
     "data": {
      "text/plain": [
       "DatetimeIndex(['2025-01-01 08:42:00', '2025-01-01 08:42:01',\n",
       "               '2025-01-01 08:42:02', '2025-01-01 08:42:03',\n",
       "               '2025-01-01 08:42:04', '2025-01-01 08:42:05',\n",
       "               '2025-01-01 08:42:06', '2025-01-01 08:42:07',\n",
       "               '2025-01-01 08:42:08', '2025-01-01 08:42:09',\n",
       "               ...\n",
       "               '2025-01-02 08:41:51', '2025-01-02 08:41:52',\n",
       "               '2025-01-02 08:41:53', '2025-01-02 08:41:54',\n",
       "               '2025-01-02 08:41:55', '2025-01-02 08:41:56',\n",
       "               '2025-01-02 08:41:57', '2025-01-02 08:41:58',\n",
       "               '2025-01-02 08:41:59', '2025-01-02 08:42:00'],\n",
       "              dtype='datetime64[ns]', length=86401, freq='s')"
      ]
     },
     "execution_count": 39,
     "metadata": {},
     "output_type": "execute_result"
    }
   ],
   "source": [
    "pd.date_range('jan 1 2025 8:42', 'jan 2 2025 8:42', freq='s')"
   ]
  },
  {
   "cell_type": "code",
   "execution_count": 44,
   "id": "2ddd7db7",
   "metadata": {},
   "outputs": [
    {
     "data": {
      "text/plain": [
       "14.577168949771691"
      ]
     },
     "execution_count": 44,
     "metadata": {},
     "output_type": "execute_result"
    }
   ],
   "source": [
    "len(pd.date_range(start = 'april 22 1981', end='today', freq='D'))*8 / 24 / 365"
   ]
  },
  {
   "cell_type": "code",
   "execution_count": null,
   "id": "32ce060c",
   "metadata": {},
   "outputs": [],
   "source": []
  }
 ],
 "metadata": {
  "kernelspec": {
   "display_name": "pandas_cbtn",
   "language": "python",
   "name": "python3"
  },
  "language_info": {
   "codemirror_mode": {
    "name": "ipython",
    "version": 3
   },
   "file_extension": ".py",
   "mimetype": "text/x-python",
   "name": "python",
   "nbconvert_exporter": "python",
   "pygments_lexer": "ipython3",
   "version": "3.12.7"
  }
 },
 "nbformat": 4,
 "nbformat_minor": 5
}
