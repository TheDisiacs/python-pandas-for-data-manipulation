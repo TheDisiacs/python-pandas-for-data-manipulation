{
 "cells": [
  {
   "cell_type": "markdown",
   "id": "30baaac1",
   "metadata": {},
   "source": [
    "# `.date_range( )` part 3"
   ]
  },
  {
   "cell_type": "code",
   "execution_count": 1,
   "id": "c6add856",
   "metadata": {},
   "outputs": [],
   "source": [
    "import pandas as pd"
   ]
  },
  {
   "cell_type": "markdown",
   "id": "be21e180",
   "metadata": {},
   "source": [
    "### `.date_range( )` without `start=`\n",
    "You can set a start, stop, and interval frequency to create a range of times or dates. You can also omit `start=` and only set the `end=` date/time.\n",
    "\n",
    "```python\n",
    "pandas.date_range(end=your_end_range,\n",
    "                  periods=how_many_results,\n",
    "                 freq=your_time_intervals)\n",
    "```                 "
   ]
  },
  {
   "cell_type": "markdown",
   "id": "198a4a89",
   "metadata": {},
   "source": [
    "### Create a 7 day week"
   ]
  },
  {
   "cell_type": "code",
   "execution_count": 4,
   "id": "e07b7b0f",
   "metadata": {},
   "outputs": [
    {
     "name": "stdout",
     "output_type": "stream",
     "text": [
      "    January 2025\n",
      "Mo Tu We Th Fr Sa Su\n",
      "       1  2  3  4  5\n",
      " 6  7  8  9 10 11 12\n",
      "13 14 15 16 17 18 19\n",
      "20 21 22 23 24 25 26\n",
      "27 28 29 30 31\n",
      "\n"
     ]
    }
   ],
   "source": [
    "import calendar\n",
    "print(calendar.month(2025,1))"
   ]
  },
  {
   "cell_type": "code",
   "execution_count": 6,
   "id": "900d718b",
   "metadata": {},
   "outputs": [
    {
     "data": {
      "text/plain": [
       "DatetimeIndex(['2024-12-26', '2024-12-27', '2024-12-28', '2024-12-29',\n",
       "               '2024-12-30', '2024-12-31', '2025-01-01'],\n",
       "              dtype='datetime64[ns]', freq='D')"
      ]
     },
     "execution_count": 6,
     "metadata": {},
     "output_type": "execute_result"
    }
   ],
   "source": [
    "# start on January 1st, 2020 and create 7(periods) days(freq)\n",
    "pd.date_range(end = 'jan 1st 2025', periods=7)"
   ]
  },
  {
   "cell_type": "code",
   "execution_count": 8,
   "id": "8a856784",
   "metadata": {},
   "outputs": [
    {
     "data": {
      "text/plain": [
       "DatetimeIndex(['2024-11-18 08:58:34.782738', '2024-11-25 08:58:34.782738',\n",
       "               '2024-12-02 08:58:34.782738', '2024-12-09 08:58:34.782738',\n",
       "               '2024-12-16 08:58:34.782738', '2024-12-23 08:58:34.782738',\n",
       "               '2024-12-30 08:58:34.782738'],\n",
       "              dtype='datetime64[ns]', freq='W-MON')"
      ]
     },
     "execution_count": 8,
     "metadata": {},
     "output_type": "execute_result"
    }
   ],
   "source": [
    "# weeks\n",
    "pd.date_range(end = 'today', periods = 7, freq='W-MON')"
   ]
  },
  {
   "cell_type": "markdown",
   "id": "a87d7170",
   "metadata": {},
   "source": [
    "### All other frequencies apply"
   ]
  },
  {
   "cell_type": "code",
   "execution_count": 9,
   "id": "e26b68f3",
   "metadata": {},
   "outputs": [
    {
     "data": {
      "text/plain": [
       "DatetimeIndex(['2019-06-30', '2019-07-31', '2019-08-31', '2019-09-30',\n",
       "               '2019-10-31', '2019-11-30', '2019-12-31'],\n",
       "              dtype='datetime64[ns]', freq='ME')"
      ]
     },
     "execution_count": 9,
     "metadata": {},
     "output_type": "execute_result"
    }
   ],
   "source": [
    "# Month\n",
    "pd.date_range(end = 'Jan 1st 2020', periods=7, freq='ME')"
   ]
  },
  {
   "cell_type": "code",
   "execution_count": 11,
   "id": "98c1fc0e",
   "metadata": {},
   "outputs": [
    {
     "data": {
      "text/plain": [
       "DatetimeIndex(['2024-07-01', '2024-08-01', '2024-09-01', '2024-10-01',\n",
       "               '2024-11-01', '2024-12-01', '2025-01-01'],\n",
       "              dtype='datetime64[ns]', freq='MS')"
      ]
     },
     "execution_count": 11,
     "metadata": {},
     "output_type": "execute_result"
    }
   ],
   "source": [
    "# Month Start\n",
    "pd.date_range(end = '1-1-25', periods=7, freq='MS')"
   ]
  },
  {
   "cell_type": "code",
   "execution_count": 13,
   "id": "31299b88",
   "metadata": {},
   "outputs": [
    {
     "data": {
      "text/plain": [
       "DatetimeIndex(['2024-12-30 00:00:00', '2024-12-30 08:00:00',\n",
       "               '2024-12-30 16:00:00', '2024-12-31 00:00:00',\n",
       "               '2024-12-31 08:00:00', '2024-12-31 16:00:00',\n",
       "               '2025-01-01 00:00:00'],\n",
       "              dtype='datetime64[ns]', freq='8h')"
      ]
     },
     "execution_count": 13,
     "metadata": {},
     "output_type": "execute_result"
    }
   ],
   "source": [
    "# 8 hours\n",
    "\n",
    "pd.date_range(end='jan 1 25', periods=7, freq='8h')"
   ]
  },
  {
   "cell_type": "code",
   "execution_count": null,
   "id": "fd1ac3d6",
   "metadata": {},
   "outputs": [],
   "source": []
  }
 ],
 "metadata": {
  "kernelspec": {
   "display_name": "pandas_cbtn",
   "language": "python",
   "name": "python3"
  },
  "language_info": {
   "codemirror_mode": {
    "name": "ipython",
    "version": 3
   },
   "file_extension": ".py",
   "mimetype": "text/x-python",
   "name": "python",
   "nbconvert_exporter": "python",
   "pygments_lexer": "ipython3",
   "version": "3.12.7"
  }
 },
 "nbformat": 4,
 "nbformat_minor": 5
}
