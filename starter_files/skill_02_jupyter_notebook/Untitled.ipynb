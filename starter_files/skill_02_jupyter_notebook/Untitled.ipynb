{
 "cells": [
  {
   "cell_type": "markdown",
   "id": "08c5e15f",
   "metadata": {},
   "source": [
    "# Challenge"
   ]
  },
  {
   "cell_type": "code",
   "execution_count": 1,
   "id": "b71153b3",
   "metadata": {},
   "outputs": [],
   "source": [
    "# import pandas"
   ]
  },
  {
   "cell_type": "code",
   "execution_count": 2,
   "id": "113b79d6",
   "metadata": {},
   "outputs": [],
   "source": [
    "# read CSV"
   ]
  },
  {
   "cell_type": "code",
   "execution_count": null,
   "id": "b937ce6d",
   "metadata": {},
   "outputs": [],
   "source": []
  }
 ],
 "metadata": {
  "kernelspec": {
   "display_name": "Python 3 (ipykernel)",
   "language": "python",
   "name": "python3"
  },
  "language_info": {
   "codemirror_mode": {
    "name": "ipython",
    "version": 3
   },
   "file_extension": ".py",
   "mimetype": "text/x-python",
   "name": "python",
   "nbconvert_exporter": "python",
   "pygments_lexer": "ipython3",
   "version": "3.9.7"
  }
 },
 "nbformat": 4,
 "nbformat_minor": 5
}
