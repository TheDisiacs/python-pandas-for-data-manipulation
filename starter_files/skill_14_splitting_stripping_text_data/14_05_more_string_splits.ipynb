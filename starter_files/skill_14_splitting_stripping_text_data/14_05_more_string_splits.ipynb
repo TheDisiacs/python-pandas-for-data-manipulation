{
 "cells": [
  {
   "cell_type": "markdown",
   "id": "ab4932a3",
   "metadata": {},
   "source": [
    "# More Split methods"
   ]
  },
  {
   "cell_type": "markdown",
   "id": "d4a056c5",
   "metadata": {},
   "source": [
    "### Import pandas"
   ]
  },
  {
   "cell_type": "code",
   "execution_count": 1,
   "id": "84e993a0",
   "metadata": {},
   "outputs": [],
   "source": [
    "import pandas as pd\n",
    "from pathlib import Path\n",
    "path = Path('C:/Users/alouden01/Documents/python-pandas-for-data-manipulation/starter_files/skill_14_splitting_stripping_text_data/animal_names.csv')"
   ]
  },
  {
   "cell_type": "markdown",
   "id": "947ef1d2",
   "metadata": {},
   "source": [
    "### Read CSV\n",
    "Let's revisit the `animal_names.csv` and dive deeper into the `split()` string method.\n",
    "\n",
    "About scientific animal names:\n",
    "1. The genus name is always written first.\n",
    "2. The first letter of the genus name is always capitalized.\n",
    "3. The species name is never capitalized."
   ]
  },
  {
   "cell_type": "code",
   "execution_count": 2,
   "id": "6e69ef0a",
   "metadata": {
    "scrolled": true
   },
   "outputs": [
    {
     "data": {
      "text/html": [
       "<div>\n",
       "<style scoped>\n",
       "    .dataframe tbody tr th:only-of-type {\n",
       "        vertical-align: middle;\n",
       "    }\n",
       "\n",
       "    .dataframe tbody tr th {\n",
       "        vertical-align: top;\n",
       "    }\n",
       "\n",
       "    .dataframe thead th {\n",
       "        text-align: right;\n",
       "    }\n",
       "</style>\n",
       "<table border=\"1\" class=\"dataframe\">\n",
       "  <thead>\n",
       "    <tr style=\"text-align: right;\">\n",
       "      <th></th>\n",
       "      <th>scientific_name</th>\n",
       "      <th>country</th>\n",
       "    </tr>\n",
       "  </thead>\n",
       "  <tbody>\n",
       "    <tr>\n",
       "      <th>0</th>\n",
       "      <td>Cercatetus concinnus</td>\n",
       "      <td>Azerbaijan</td>\n",
       "    </tr>\n",
       "    <tr>\n",
       "      <th>1</th>\n",
       "      <td>Lutra canadensis</td>\n",
       "      <td>Kazakhstan</td>\n",
       "    </tr>\n",
       "    <tr>\n",
       "      <th>2</th>\n",
       "      <td>Alopex lagopus</td>\n",
       "      <td>China</td>\n",
       "    </tr>\n",
       "    <tr>\n",
       "      <th>3</th>\n",
       "      <td>Macropus eugenii</td>\n",
       "      <td>Philippines</td>\n",
       "    </tr>\n",
       "    <tr>\n",
       "      <th>4</th>\n",
       "      <td>Calyptorhynchus magnificus</td>\n",
       "      <td>Cambodia</td>\n",
       "    </tr>\n",
       "  </tbody>\n",
       "</table>\n",
       "</div>"
      ],
      "text/plain": [
       "              scientific_name      country\n",
       "0        Cercatetus concinnus   Azerbaijan\n",
       "1            Lutra canadensis   Kazakhstan\n",
       "2              Alopex lagopus        China\n",
       "3            Macropus eugenii  Philippines\n",
       "4  Calyptorhynchus magnificus     Cambodia"
      ]
     },
     "execution_count": 2,
     "metadata": {},
     "output_type": "execute_result"
    }
   ],
   "source": [
    "a_names = pd.read_csv(path)\n",
    "a_names.head()\n"
   ]
  },
  {
   "cell_type": "markdown",
   "id": "5bb76223",
   "metadata": {},
   "source": [
    "### Split the genus and species and create new columns"
   ]
  },
  {
   "cell_type": "code",
   "execution_count": 10,
   "id": "79a64636",
   "metadata": {},
   "outputs": [
    {
     "name": "stdout",
     "output_type": "stream",
     "text": [
      "<class 'pandas.core.frame.DataFrame'>\n",
      "RangeIndex: 1000 entries, 0 to 999\n",
      "Data columns (total 3 columns):\n",
      " #   Column           Non-Null Count  Dtype \n",
      "---  ------           --------------  ----- \n",
      " 0   scientific_name  1000 non-null   object\n",
      " 1   country          1000 non-null   object\n",
      " 2   genus            1000 non-null   object\n",
      "dtypes: object(3)\n",
      "memory usage: 23.6+ KB\n"
     ]
    }
   ],
   "source": [
    "a_names.info()"
   ]
  },
  {
   "cell_type": "code",
   "execution_count": 14,
   "id": "45cf3c71",
   "metadata": {},
   "outputs": [
    {
     "data": {
      "text/html": [
       "<div>\n",
       "<style scoped>\n",
       "    .dataframe tbody tr th:only-of-type {\n",
       "        vertical-align: middle;\n",
       "    }\n",
       "\n",
       "    .dataframe tbody tr th {\n",
       "        vertical-align: top;\n",
       "    }\n",
       "\n",
       "    .dataframe thead th {\n",
       "        text-align: right;\n",
       "    }\n",
       "</style>\n",
       "<table border=\"1\" class=\"dataframe\">\n",
       "  <thead>\n",
       "    <tr style=\"text-align: right;\">\n",
       "      <th></th>\n",
       "      <th>scientific_name</th>\n",
       "      <th>country</th>\n",
       "      <th>genus</th>\n",
       "      <th>species</th>\n",
       "    </tr>\n",
       "  </thead>\n",
       "  <tbody>\n",
       "    <tr>\n",
       "      <th>0</th>\n",
       "      <td>Cercatetus concinnus</td>\n",
       "      <td>Azerbaijan</td>\n",
       "      <td>Cercatetus</td>\n",
       "      <td>concinnus</td>\n",
       "    </tr>\n",
       "    <tr>\n",
       "      <th>1</th>\n",
       "      <td>Lutra canadensis</td>\n",
       "      <td>Kazakhstan</td>\n",
       "      <td>Lutra</td>\n",
       "      <td>canadensis</td>\n",
       "    </tr>\n",
       "    <tr>\n",
       "      <th>2</th>\n",
       "      <td>Alopex lagopus</td>\n",
       "      <td>China</td>\n",
       "      <td>Alopex</td>\n",
       "      <td>lagopus</td>\n",
       "    </tr>\n",
       "    <tr>\n",
       "      <th>3</th>\n",
       "      <td>Macropus eugenii</td>\n",
       "      <td>Philippines</td>\n",
       "      <td>Macropus</td>\n",
       "      <td>eugenii</td>\n",
       "    </tr>\n",
       "    <tr>\n",
       "      <th>4</th>\n",
       "      <td>Calyptorhynchus magnificus</td>\n",
       "      <td>Cambodia</td>\n",
       "      <td>Calyptorhynchus</td>\n",
       "      <td>magnificus</td>\n",
       "    </tr>\n",
       "  </tbody>\n",
       "</table>\n",
       "</div>"
      ],
      "text/plain": [
       "              scientific_name      country            genus     species\n",
       "0        Cercatetus concinnus   Azerbaijan       Cercatetus   concinnus\n",
       "1            Lutra canadensis   Kazakhstan            Lutra  canadensis\n",
       "2              Alopex lagopus        China           Alopex     lagopus\n",
       "3            Macropus eugenii  Philippines         Macropus     eugenii\n",
       "4  Calyptorhynchus magnificus     Cambodia  Calyptorhynchus  magnificus"
      ]
     },
     "execution_count": 14,
     "metadata": {},
     "output_type": "execute_result"
    }
   ],
   "source": [
    "# you don't always need to specify n= number of splits (here we do)\n",
    "a_names[['genus','species']] = a_names['scientific_name'].str.split(' ', n=1, expand=True)\n",
    "a_names.head()"
   ]
  },
  {
   "cell_type": "code",
   "execution_count": null,
   "id": "b3c6aff3",
   "metadata": {},
   "outputs": [],
   "source": []
  },
  {
   "cell_type": "code",
   "execution_count": null,
   "id": "1d2c4c1f",
   "metadata": {},
   "outputs": [],
   "source": []
  }
 ],
 "metadata": {
  "kernelspec": {
   "display_name": "pandas_cbtn",
   "language": "python",
   "name": "python3"
  },
  "language_info": {
   "codemirror_mode": {
    "name": "ipython",
    "version": 3
   },
   "file_extension": ".py",
   "mimetype": "text/x-python",
   "name": "python",
   "nbconvert_exporter": "python",
   "pygments_lexer": "ipython3",
   "version": "3.12.7"
  }
 },
 "nbformat": 4,
 "nbformat_minor": 5
}
