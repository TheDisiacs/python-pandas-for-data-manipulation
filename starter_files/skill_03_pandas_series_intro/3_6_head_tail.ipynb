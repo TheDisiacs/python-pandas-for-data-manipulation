{
 "cells": [
  {
   "cell_type": "markdown",
   "metadata": {},
   "source": [
    "# `head()` & `tail()`"
   ]
  },
  {
   "cell_type": "markdown",
   "metadata": {},
   "source": [
    "### Import Pandas"
   ]
  },
  {
   "cell_type": "code",
   "execution_count": 7,
   "metadata": {},
   "outputs": [],
   "source": [
    "# Import pandas\n",
    "import pandas as pd\n",
    "from pathlib import Path"
   ]
  },
  {
   "cell_type": "markdown",
   "metadata": {},
   "source": [
    "### Import Series as `a_names`"
   ]
  },
  {
   "cell_type": "code",
   "execution_count": 11,
   "metadata": {},
   "outputs": [],
   "source": [
    "# read csv and assign to Series as: a_names\n",
    "path = Path(\"C:/Users/alouden01/Documents/python-pandas-for-data-manipulation/starter_files/skill_03_pandas_series_intro\")\n",
    "file_name = 'animal_names.csv'\n",
    "a_names = pd.read_csv(path/file_name,usecols=['country']).squeeze()"
   ]
  },
  {
   "cell_type": "code",
   "execution_count": 12,
   "metadata": {},
   "outputs": [
    {
     "name": "stdout",
     "output_type": "stream",
     "text": [
      "0       Azerbaijan\n",
      "1       Kazakhstan\n",
      "2            China\n",
      "3      Philippines\n",
      "4         Cambodia\n",
      "          ...     \n",
      "995          China\n",
      "996          China\n",
      "997         Poland\n",
      "998         Angola\n",
      "999         Canada\n",
      "Name: country, Length: 1000, dtype: object\n"
     ]
    }
   ],
   "source": [
    "# return Series\n",
    "print(a_names)"
   ]
  },
  {
   "cell_type": "markdown",
   "metadata": {},
   "source": [
    "### `head()`"
   ]
  },
  {
   "cell_type": "code",
   "execution_count": 13,
   "metadata": {},
   "outputs": [
    {
     "data": {
      "text/plain": [
       "0     Azerbaijan\n",
       "1     Kazakhstan\n",
       "2          China\n",
       "3    Philippines\n",
       "4       Cambodia\n",
       "Name: country, dtype: object"
      ]
     },
     "execution_count": 13,
     "metadata": {},
     "output_type": "execute_result"
    }
   ],
   "source": [
    "# return first 5 rows\n",
    "a_names.head()\n"
   ]
  },
  {
   "cell_type": "code",
   "execution_count": 14,
   "metadata": {},
   "outputs": [
    {
     "data": {
      "text/plain": [
       "0        Azerbaijan\n",
       "1        Kazakhstan\n",
       "2             China\n",
       "3       Philippines\n",
       "4          Cambodia\n",
       "5            Russia\n",
       "6       North Korea\n",
       "7    Czech Republic\n",
       "8             China\n",
       "9             China\n",
       "Name: country, dtype: object"
      ]
     },
     "execution_count": 14,
     "metadata": {},
     "output_type": "execute_result"
    }
   ],
   "source": [
    "# return first 10 rows\n",
    "a_names.head(10)"
   ]
  },
  {
   "cell_type": "markdown",
   "metadata": {},
   "source": [
    "### `tail()`"
   ]
  },
  {
   "cell_type": "code",
   "execution_count": 15,
   "metadata": {},
   "outputs": [
    {
     "data": {
      "text/plain": [
       "995     China\n",
       "996     China\n",
       "997    Poland\n",
       "998    Angola\n",
       "999    Canada\n",
       "Name: country, dtype: object"
      ]
     },
     "execution_count": 15,
     "metadata": {},
     "output_type": "execute_result"
    }
   ],
   "source": [
    "# retutn last five rows\n",
    "a_names.tail()"
   ]
  },
  {
   "cell_type": "code",
   "execution_count": 16,
   "metadata": {},
   "outputs": [
    {
     "data": {
      "text/plain": [
       "990     Thailand\n",
       "991       Cyprus\n",
       "992    Indonesia\n",
       "993        China\n",
       "994      Myanmar\n",
       "995        China\n",
       "996        China\n",
       "997       Poland\n",
       "998       Angola\n",
       "999       Canada\n",
       "Name: country, dtype: object"
      ]
     },
     "execution_count": 16,
     "metadata": {},
     "output_type": "execute_result"
    }
   ],
   "source": [
    "# return last ten rows\n",
    "a_names.tail(10)\n"
   ]
  },
  {
   "cell_type": "code",
   "execution_count": null,
   "metadata": {},
   "outputs": [],
   "source": []
  }
 ],
 "metadata": {
  "kernelspec": {
   "display_name": "pandas_cbtn",
   "language": "python",
   "name": "python3"
  },
  "language_info": {
   "codemirror_mode": {
    "name": "ipython",
    "version": 3
   },
   "file_extension": ".py",
   "mimetype": "text/x-python",
   "name": "python",
   "nbconvert_exporter": "python",
   "pygments_lexer": "ipython3",
   "version": "3.12.7"
  }
 },
 "nbformat": 4,
 "nbformat_minor": 4
}
