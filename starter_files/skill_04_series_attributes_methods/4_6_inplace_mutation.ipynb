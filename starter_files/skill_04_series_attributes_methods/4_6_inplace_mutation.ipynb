{
 "cells": [
  {
   "cell_type": "markdown",
   "metadata": {},
   "source": [
    "# Inplace Mutation `inplace=`"
   ]
  },
  {
   "cell_type": "markdown",
   "metadata": {},
   "source": [
    "### Import Pandas"
   ]
  },
  {
   "cell_type": "code",
   "execution_count": 19,
   "metadata": {},
   "outputs": [],
   "source": [
    "# Import pandas\n",
    "import pandas as pd"
   ]
  },
  {
   "cell_type": "markdown",
   "metadata": {},
   "source": [
    "### Read CSV as Series"
   ]
  },
  {
   "cell_type": "code",
   "execution_count": 37,
   "metadata": {},
   "outputs": [],
   "source": [
    "from pathlib import Path\n",
    "path = Path('C:/Users/alouden01/Documents/python-pandas-for-data-manipulation/starter_files/skill_04_series_attributes_methods/animal_names.csv')\n",
    "#a_names = pd.read_csv(path, usecols=['scientific_name']).squeeze('columns')\n",
    "\n",
    "a_names: pd.Series = pd.read_csv(path, usecols=['scientific_name']).squeeze('columns')\n",
    "#a_names = pd.read_csv(path, usecols=['scientific_name'])['scientific_name']"
   ]
  },
  {
   "cell_type": "code",
   "execution_count": 38,
   "metadata": {},
   "outputs": [
    {
     "data": {
      "text/plain": [
       "93                      unavailable\n",
       "178                     unavailable\n",
       "91                      unavailable\n",
       "627                     unavailable\n",
       "791                     unavailable\n",
       "                   ...             \n",
       "844    Acrantophis madagascariensis\n",
       "680    Acrantophis madagascariensis\n",
       "372    Acrantophis madagascariensis\n",
       "22                 Acinynox jubatus\n",
       "265              Acanthaster planci\n",
       "Name: scientific_name, Length: 1000, dtype: object"
      ]
     },
     "execution_count": 38,
     "metadata": {},
     "output_type": "execute_result"
    }
   ],
   "source": [
    "a_names.dtype\n",
    "type(a_names)\n",
    "a_names.sort_values(ascending=False)"
   ]
  },
  {
   "cell_type": "markdown",
   "metadata": {},
   "source": [
    "### Sort by Values `sort_values()`\n",
    "help(a_names)"
   ]
  },
  {
   "cell_type": "code",
   "execution_count": 22,
   "metadata": {},
   "outputs": [
    {
     "data": {
      "text/plain": [
       "265              Acanthaster planci\n",
       "22                 Acinynox jubatus\n",
       "844    Acrantophis madagascariensis\n",
       "680    Acrantophis madagascariensis\n",
       "372    Acrantophis madagascariensis\n",
       "                   ...             \n",
       "388                     unavailable\n",
       "91                      unavailable\n",
       "283                     unavailable\n",
       "475                     unavailable\n",
       "908                     unavailable\n",
       "Name: scientific_name, Length: 1000, dtype: object"
      ]
     },
     "execution_count": 22,
     "metadata": {},
     "output_type": "execute_result"
    }
   ],
   "source": [
    "a_names.sort_values()"
   ]
  },
  {
   "cell_type": "markdown",
   "metadata": {},
   "source": [
    "### Not Muated"
   ]
  },
  {
   "cell_type": "code",
   "execution_count": 32,
   "metadata": {},
   "outputs": [],
   "source": [
    "# sort descending by default\n",
    "l = [1,2,3,4,5]\n",
    "l\n",
    "pd.Series(l)\n",
    "ls = pd.Series(l)"
   ]
  },
  {
   "cell_type": "code",
   "execution_count": 33,
   "metadata": {},
   "outputs": [
    {
     "data": {
      "text/plain": [
       "0    1\n",
       "1    2\n",
       "2    3\n",
       "3    4\n",
       "4    5\n",
       "dtype: int64"
      ]
     },
     "execution_count": 33,
     "metadata": {},
     "output_type": "execute_result"
    }
   ],
   "source": [
    "ls\n"
   ]
  },
  {
   "cell_type": "markdown",
   "metadata": {},
   "source": [
    "### Mutated"
   ]
  },
  {
   "cell_type": "code",
   "execution_count": null,
   "metadata": {},
   "outputs": [],
   "source": [
    "# first, you must create a copy\n",
    "ls.sor\n",
    "\n",
    "# since inplace=True mutates the original Series\n"
   ]
  },
  {
   "cell_type": "code",
   "execution_count": 26,
   "metadata": {},
   "outputs": [],
   "source": [
    "# mutated\n"
   ]
  }
 ],
 "metadata": {
  "kernelspec": {
   "display_name": "pandas_cbtn",
   "language": "python",
   "name": "python3"
  },
  "language_info": {
   "codemirror_mode": {
    "name": "ipython",
    "version": 3
   },
   "file_extension": ".py",
   "mimetype": "text/x-python",
   "name": "python",
   "nbconvert_exporter": "python",
   "pygments_lexer": "ipython3",
   "version": "3.12.7"
  }
 },
 "nbformat": 4,
 "nbformat_minor": 4
}
