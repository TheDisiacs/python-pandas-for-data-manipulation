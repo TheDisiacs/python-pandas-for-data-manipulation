{
 "cells": [
  {
   "cell_type": "markdown",
   "metadata": {},
   "source": [
    "# `get()` Method by Label"
   ]
  },
  {
   "cell_type": "markdown",
   "metadata": {},
   "source": [
    "### Import Pandas"
   ]
  },
  {
   "cell_type": "code",
   "execution_count": 5,
   "metadata": {},
   "outputs": [
    {
     "data": {
      "text/plain": [
       "WindowsPath('C:/Users/alouden01/Documents/python-pandas-for-data-manipulation/starter_files/skill_05_series_indices_labels/animal_names.csv')"
      ]
     },
     "execution_count": 5,
     "metadata": {},
     "output_type": "execute_result"
    }
   ],
   "source": [
    "import pandas as pd\n",
    "from pathlib import Path\n",
    "path = Path('C:/Users/alouden01/Documents/python-pandas-for-data-manipulation/starter_files/skill_05_series_indices_labels/animal_names.csv')\n",
    "path"
   ]
  },
  {
   "cell_type": "markdown",
   "metadata": {},
   "source": [
    "### Read CSV as series"
   ]
  },
  {
   "cell_type": "code",
   "execution_count": 7,
   "metadata": {},
   "outputs": [
    {
     "data": {
      "text/plain": [
       "scientific_name\n",
       "Cercatetus concinnus           Azerbaijan\n",
       "Lutra canadensis               Kazakhstan\n",
       "Alopex lagopus                      China\n",
       "Macropus eugenii              Philippines\n",
       "Calyptorhynchus magnificus       Cambodia\n",
       "                                 ...     \n",
       "Anas platyrhynchos                  China\n",
       "Isoodon obesulus                    China\n",
       "Upupa epops                        Poland\n",
       "Ratufa indica                      Angola\n",
       "Columba palumbus                   Canada\n",
       "Name: country, Length: 1000, dtype: object"
      ]
     },
     "execution_count": 7,
     "metadata": {},
     "output_type": "execute_result"
    }
   ],
   "source": [
    "# replace index with column data as Series\n",
    "a_names: pd.Series = pd.read_csv(path, index_col=['scientific_name']).squeeze('columns')\n",
    "a_names\n"
   ]
  },
  {
   "cell_type": "markdown",
   "metadata": {},
   "source": [
    "### `sort_index()` No Mutation"
   ]
  },
  {
   "cell_type": "code",
   "execution_count": 8,
   "metadata": {},
   "outputs": [
    {
     "data": {
      "text/plain": [
       "scientific_name\n",
       "Acanthaster planci                               China\n",
       "Acinynox jubatus                               Ukraine\n",
       "Acrantophis madagascariensis                     China\n",
       "Acrantophis madagascariensis                     China\n",
       "Acrantophis madagascariensis                     China\n",
       "                                         ...          \n",
       "unavailable                                      China\n",
       "unavailable                                   Portugal\n",
       "unavailable                                      Yemen\n",
       "unavailable                     Bosnia and Herzegovina\n",
       "unavailable                                    Morocco\n",
       "Name: country, Length: 1000, dtype: object"
      ]
     },
     "execution_count": 8,
     "metadata": {},
     "output_type": "execute_result"
    }
   ],
   "source": [
    "# sort by index | not permanent\n",
    "a_names.sort_index()"
   ]
  },
  {
   "cell_type": "markdown",
   "metadata": {},
   "source": [
    "### `sort_index()` Mutation"
   ]
  },
  {
   "cell_type": "code",
   "execution_count": 9,
   "metadata": {},
   "outputs": [],
   "source": [
    "# sort by index | muated using inplace\n",
    "a_names.sort_index(inplace=True)\n"
   ]
  },
  {
   "cell_type": "code",
   "execution_count": 10,
   "metadata": {},
   "outputs": [
    {
     "data": {
      "text/plain": [
       "scientific_name\n",
       "Acanthaster planci                     China\n",
       "Acinynox jubatus                     Ukraine\n",
       "Acrantophis madagascariensis           China\n",
       "Acrantophis madagascariensis           China\n",
       "Acrantophis madagascariensis           China\n",
       "Acridotheres tristis                  Mexico\n",
       "Acridotheres tristis                   China\n",
       "Acridotheres tristis                  Brazil\n",
       "Acridotheres tristis                  Serbia\n",
       "Acrobates pygmaeus                   Ukraine\n",
       "Acrobates pygmaeus              South Africa\n",
       "Actophilornis africanus              Ukraine\n",
       "Actophilornis africanus             Colombia\n",
       "Aegypius occipitalis                 Myanmar\n",
       "Aegypius occipitalis                  Brazil\n",
       "Name: country, dtype: object"
      ]
     },
     "execution_count": 10,
     "metadata": {},
     "output_type": "execute_result"
    }
   ],
   "source": [
    "# it is now permanently sorted\n",
    "a_names.head(15)\n"
   ]
  },
  {
   "cell_type": "markdown",
   "metadata": {},
   "source": [
    "### `get()` by Index"
   ]
  },
  {
   "cell_type": "code",
   "execution_count": null,
   "metadata": {},
   "outputs": [],
   "source": [
    "# get by index\n"
   ]
  },
  {
   "cell_type": "markdown",
   "metadata": {},
   "source": [
    "### `get()` by Label"
   ]
  },
  {
   "cell_type": "code",
   "execution_count": null,
   "metadata": {},
   "outputs": [],
   "source": [
    "# get by label\n"
   ]
  },
  {
   "cell_type": "markdown",
   "metadata": {},
   "source": [
    "### Non-existant Index Labels"
   ]
  },
  {
   "cell_type": "code",
   "execution_count": null,
   "metadata": {},
   "outputs": [],
   "source": [
    "# if you use get for non-existant index of label, you get nothing back, why is that?\n"
   ]
  },
  {
   "cell_type": "code",
   "execution_count": null,
   "metadata": {},
   "outputs": [],
   "source": [
    "# again, nothing is returned\n"
   ]
  },
  {
   "cell_type": "markdown",
   "metadata": {},
   "source": [
    "### Defaults"
   ]
  },
  {
   "cell_type": "code",
   "execution_count": null,
   "metadata": {},
   "outputs": [],
   "source": [
    "# if a key is not found, the default=None\n"
   ]
  },
  {
   "cell_type": "code",
   "execution_count": null,
   "metadata": {},
   "outputs": [],
   "source": [
    "# you can change default to something else, like a message\n"
   ]
  }
 ],
 "metadata": {
  "kernelspec": {
   "display_name": "pandas_cbtn",
   "language": "python",
   "name": "python3"
  },
  "language_info": {
   "codemirror_mode": {
    "name": "ipython",
    "version": 3
   },
   "file_extension": ".py",
   "mimetype": "text/x-python",
   "name": "python",
   "nbconvert_exporter": "python",
   "pygments_lexer": "ipython3",
   "version": "3.12.7"
  }
 },
 "nbformat": 4,
 "nbformat_minor": 4
}
